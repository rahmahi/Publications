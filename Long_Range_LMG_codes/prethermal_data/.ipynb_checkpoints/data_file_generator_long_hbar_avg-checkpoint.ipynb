{
 "cells": [
  {
   "cell_type": "code",
   "execution_count": 44,
   "id": "28fc301f-e3fc-4079-94e4-293d88d4abb0",
   "metadata": {},
   "outputs": [
    {
     "name": "stdout",
     "output_type": "stream",
     "text": [
      "running for TSS spin N= 2 nprocs= 12  !\n"
     ]
    },
    {
     "name": "stderr",
     "output_type": "stream",
     "text": [
      "100%|████████████████████████████████████████████████████████████| 84/84 [00:00<00:00, 20350.11it/s]\n"
     ]
    },
    {
     "name": "stdout",
     "output_type": "stream",
     "text": [
      "CPU times: user 36.9 ms, sys: 131 ms, total: 168 ms\n",
      "Wall time: 17.9 s\n"
     ]
    },
    {
     "name": "stderr",
     "output_type": "stream",
     "text": [
      "<timed exec>:71: VisibleDeprecationWarning: Creating an ndarray from ragged nested sequences (which is a list-or-tuple of lists-or-tuples-or ndarrays with different lengths or shapes) is deprecated. If you meant to do this, you must specify 'dtype=object' when creating the ndarray.\n"
     ]
    }
   ],
   "source": [
    "%%time\n",
    "\n",
    "from qutip import mesolve, basis, jmat, Options, expect, Qobj\n",
    "from multiprocessing import Pool\n",
    "from tqdm import tqdm\n",
    "from scipy.special import jn_zeros\n",
    "import numpy as np\n",
    "import matplotlib.pyplot as plt\n",
    "import h5py\n",
    "\n",
    "plt.rcParams.update({\"figure.figsize\": (12,8),\"text.usetex\": True,\n",
    "    \"font.family\": \"sans-serif\",\"font.size\": 15,\"font.sans-serif\": [\"Computer Modern\"]})\n",
    "\n",
    "def drive(t, args):\n",
    "    w = args['omega']\n",
    "    h = args['h']\n",
    "    h0 = args['h0']\n",
    "    return h * np.sin(w*t) + h0\n",
    "\n",
    "def get_hamiltonians(N):\n",
    "    sx,sy,sz = jmat(N,\"x\"),jmat(N,\"y\"),jmat(N,\"z\")\n",
    "    kn =  2.0/(N-1)                                     \n",
    "    H0 = kn * sz **2 \n",
    "    H1 = 2 * sx\n",
    "    return H0,H1\n",
    "\n",
    "def sys_evolve(w,N,opts):\n",
    "    sx,sy,sz = jmat(N,\"x\"),jmat(N,\"y\"),jmat(N,\"z\")\n",
    "    T = 2 * np.pi/w\n",
    "    h = jn_zeros(0,5)[-1]* w / 4.0\n",
    "    params = {'h0':np.pi/32, 'h':h,'omega':w, 'N':N} \n",
    "    H0, H1 = get_hamiltonians(N)\n",
    "    H = [H0,[H1,drive]]\n",
    "    en, sts = sx.eigenstates() \n",
    "    rho0 = sts[0]\n",
    "    times = np.linspace(0,75*T, 500)\n",
    "    hbar = []\n",
    "    out = mesolve(H, rho0, times, [], [], args = params, options=opts)\n",
    "    psi_ts = out.states\n",
    "    \n",
    "    for i,t in enumerate(times):\n",
    "        Ht = H0 + H1 * drive(t, params)\n",
    "        hbar.append(expect(Qobj(Ht),psi_ts[i]))\n",
    "    hbar = (np.array(hbar)/N).reshape(len(times),1)\n",
    "    \n",
    "    \n",
    "    \n",
    "    return hbar.real, (times/(2*np.pi/w)).reshape(len(times),1), w\n",
    "\n",
    "if __name__ == '__main__':\n",
    "    nprocs = 12\n",
    "    N = 2\n",
    "    o1 = np.linspace(0.29, 1.58, 15)\n",
    "    o2 = np.linspace(1.6, 2.5, 15)\n",
    "    o3 = np.linspace(2.8, 4.38, 15)\n",
    "    o4 = np.linspace(4.5, 9.4, 15)\n",
    "    o5 = np.linspace(9.5, 20.0, 15)\n",
    "    o6 = np.linspace(20.1, 50.0, 9)\n",
    "    \n",
    "    o7 = np.linspace(0.1, 2, 15)\n",
    "    o8 = np.linspace(1.6, 2.5, 15)\n",
    "    o9 = np.linspace(2.8, 4.38, 15)\n",
    "    \n",
    "    o10 = np.linspace(0.05, 2, 10)\n",
    "\n",
    "    omega_vals = np.concatenate((o1, o2, o3, o4, o5, o6))\n",
    "    #omega_vals = np.concatenate((o7,o8,o9))\n",
    "    #omega_vals = o10\n",
    "    \n",
    "    p = Pool(processes = nprocs)\n",
    "    print(\"running for TSS spin N=\",N, 'nprocs=',nprocs,\" !\")\n",
    "    opts = Options(nsteps=1e5, num_cpus=nprocs, openmp_threads=1, atol=1e-12, rtol=1e-14)\n",
    "    data = np.array(p.starmap(sys_evolve,tqdm([(w,N, opts) for w in omega_vals])))"
   ]
  },
  {
   "cell_type": "code",
   "execution_count": 47,
   "id": "240edf26-fcf0-45c5-b159-49f4e102c074",
   "metadata": {},
   "outputs": [],
   "source": [
    "import h5py\n",
    "\n",
    "hbars, timess , ws =[],[], []\n",
    "for i,w in enumerate(omega_vals):\n",
    "    hbars.append(data[i][0][:,0])\n",
    "    timess.append(data[i][1][:,0])\n",
    "    ws.append(data[i][2])"
   ]
  },
  {
   "cell_type": "code",
   "execution_count": 48,
   "id": "10133c3f-a154-4495-946d-91cf0710dcb9",
   "metadata": {},
   "outputs": [],
   "source": [
    "fname = 'test.hdf5'\n",
    "\n",
    "with h5py.File(fname,'w') as hf:\n",
    "    hbar_dset = hf.create_dataset('hbars', np.shape(np.array(hbars)), data = np.array(hbars))\n",
    "    times_dset = hf.create_dataset('times', np.shape(np.array(times)), data = np.array(times))\n",
    "    ws = hf.create_dataset('ws', np.shape(np.array(ws)), data = np.array(ws))\n",
    "    hf.attrs['N'] = N"
   ]
  },
  {
   "cell_type": "code",
   "execution_count": 55,
   "id": "6d09e545-c602-49c8-ad83-ef7b13fb9f1e",
   "metadata": {},
   "outputs": [],
   "source": [
    "with h5py.File(fname, \"r\") as f:\n",
    "    hbar = f['hbars'][()]\n",
    "    times = f['times'][()]\n",
    "    omega_vals = f['ws'][()]\n",
    "    N = f.attrs['N']"
   ]
  },
  {
   "cell_type": "code",
   "execution_count": null,
   "id": "e2efac0e-cd6d-4b5c-b4f0-f1e8420bdc2a",
   "metadata": {},
   "outputs": [
    {
     "data": {
      "image/png": "[encoded data removed]",
      "text/plain": [
       "<Figure size 864x576 with 1 Axes>"
      ]
     },
     "metadata": {
      "needs_background": "light"
     },
     "output_type": "display_data"
    }
   ],
   "source": [
    "hbaravg1 =[]\n",
    "for i,w in enumerate(omega_vals):\n",
    "    hbar1 = hbar1 = times[i]\n",
    "\n",
    "    [i]\n",
    "    timeshbaravg1.append(np.average(hbar1))\n",
    "plt.plot(omega_vals,hbaravg1)\n",
    "plt.xlabel(r'$\\omega$')\n",
    "plt.ylabel(r\"$\\langle H(t) \\rangle$\")\n",
    "#plt.xlim(-1,10)\n",
    "plt.axhline(y=1.0,color='r', linestyle='--', alpha=0.5)\n",
    "plt.show()"
   ]
  },
  {
   "cell_type": "markdown",
   "id": "97cfd1eb-caad-47bf-a7ae-fe91f351ed98",
   "metadata": {},
   "source": [
    "#  Multiple Ns"
   ]
  },
  {
   "cell_type": "code",
   "execution_count": 94,
   "id": "88a857d1-0aff-4ab3-99e4-f2251960611a",
   "metadata": {},
   "outputs": [
    {
     "name": "stdout",
     "output_type": "stream",
     "text": [
      "running for TSS spin N= 2 nprocs= 12  !\n"
     ]
    },
    {
     "name": "stderr",
     "output_type": "stream",
     "text": [
      "100%|████████████████████████████████████████████████████████████| 79/79 [00:00<00:00, 23740.78it/s]\n",
      "/tmp/ipykernel_10477/1323669855.py:71: VisibleDeprecationWarning: Creating an ndarray from ragged nested sequences (which is a list-or-tuple of lists-or-tuples-or ndarrays with different lengths or shapes) is deprecated. If you meant to do this, you must specify 'dtype=object' when creating the ndarray.\n",
      "  data = np.array(p.starmap(sys_evolve,tqdm([(w,N, opts) for w in omega_vals])))\n"
     ]
    },
    {
     "name": "stdout",
     "output_type": "stream",
     "text": [
      "running for TSS spin N= 3 nprocs= 12  !\n"
     ]
    },
    {
     "name": "stderr",
     "output_type": "stream",
     "text": [
      "100%|████████████████████████████████████████████████████████████| 79/79 [00:00<00:00, 25608.63it/s]\n"
     ]
    }
   ],
   "source": [
    "from qutip import mesolve, basis, jmat, Options, expect, Qobj\n",
    "from multiprocessing import Pool\n",
    "from tqdm import tqdm\n",
    "from scipy.special import jn_zeros\n",
    "import numpy as np\n",
    "import matplotlib.pyplot as plt\n",
    "import h5py\n",
    "\n",
    "\n",
    "plt.rcParams.update({\"figure.figsize\": (12,8),\"text.usetex\": True,\n",
    "    \"font.family\": \"sans-serif\",\"font.size\": 15,\"font.sans-serif\": [\"Computer Modern\"]})\n",
    "\n",
    "def drive(t, args):\n",
    "    w = args['omega']\n",
    "    h = args['h']\n",
    "    h0 = args['h0']\n",
    "    return h * np.sin(w*t) + h0\n",
    "\n",
    "def get_hamiltonians(N):\n",
    "    sx,sy,sz = jmat(N,\"x\"),jmat(N,\"y\"),jmat(N,\"z\")\n",
    "    kn =  2.0/(N-1)                                     \n",
    "    H0 = kn * sz **2 \n",
    "    H1 = 2 * sx\n",
    "    return H0,H1\n",
    "\n",
    "def sys_evolve(w,N,opts):\n",
    "    sx,sy,sz = jmat(N,\"x\"),jmat(N,\"y\"),jmat(N,\"z\")\n",
    "    T = 2 * np.pi/w\n",
    "    h = jn_zeros(0,5)[1]* w / 4.0\n",
    "    params = {'h0':np.pi/32, 'h':h,'omega':w, 'N':N} \n",
    "    H0, H1 = get_hamiltonians(N)\n",
    "    H = [H0,[H1,drive]]\n",
    "    en, sts = sx.eigenstates() \n",
    "    rho0 = sts[0]\n",
    "    times = np.linspace(0,75*T, 1000)\n",
    "    hbar = []\n",
    "    out = mesolve(H, rho0, times, [], [], args = params, options=opts)\n",
    "    psi_ts = out.states\n",
    "    \n",
    "    for i,t in enumerate(times):\n",
    "        Ht = H0 + H1 * drive(t, params)\n",
    "        hbar.append(expect(Qobj(Ht),psi_ts[i]))\n",
    "    hbar = (np.array(hbar)/N).reshape(len(times),1)\n",
    "    return hbar.real, (times/(2*np.pi/w)).reshape(len(times),1), w\n",
    "\n",
    "if __name__ == '__main__':\n",
    "    nprocs = 32\n",
    "    Ns = [20,50]\n",
    "    \n",
    "    o1 = np.linspace(0.29, 1.58, 15)\n",
    "    o2 = np.linspace(1.6, 2.5, 17)\n",
    "    o3 = np.linspace(2.6, 4.38, 19)\n",
    "    o4 = np.linspace(4.4, 9.4, 20)\n",
    "    o5 = np.linspace(9.45, 20.0, 20)\n",
    "    o6 = np.linspace(20.1, 40.0, 5)\n",
    "    omega_vals = np.concatenate((o1, o2, o3, o4, o5, o6))\n",
    "\n",
    "    for N in Ns:\n",
    "        p = Pool(processes = nprocs)\n",
    "        print(\"running for TSS spin N=\",N, 'nprocs=',nprocs,\" !\")\n",
    "        opts = Options(nsteps=1e5, num_cpus=nprocs, openmp_threads=1, atol=1e-12, rtol=1e-14)\n",
    "        data = np.array(p.starmap(sys_evolve,tqdm([(w,N, opts) for w in omega_vals])))        \n",
    "        \n",
    "        hbars, times , ws =[],[], []\n",
    "        for i,w in enumerate(omega_vals):\n",
    "            hbars.append(data[i][0][:,0])\n",
    "            times.append(data[i][1][:,0])\n",
    "            ws.append(data[i][2])\n",
    "            \n",
    "        fname = 'long_hbar_avg_N' + str(N) + '.hdf5'\n",
    "\n",
    "        with h5py.File(fname,'w') as hf:\n",
    "            hbar_dset = hf.create_dataset('hbars', np.shape(np.array(hbars)), data = np.array(hbars))\n",
    "            times_dset = hf.create_dataset('times', np.shape(np.array(times)), data = np.array(times))\n",
    "            ws = hf.create_dataset('ws', np.shape(np.array(ws)), data = np.array(ws))\n",
    "            hf.attrs['N'] = N"
   ]
  },
  {
   "cell_type": "code",
   "execution_count": 110,
   "id": "9cbd4166-a57a-47b6-821b-f421f981b248",
   "metadata": {},
   "outputs": [
    {
     "name": "stdout",
     "output_type": "stream",
     "text": [
      "long_hbar_avg_N20.hdf5\n",
      "long_hbar_avg_N50.hdf5\n"
     ]
    }
   ],
   "source": [
    "!ls long_hbar_avg_N* > datafiles.txt\n",
    "! cat datafiles.txt"
   ]
  },
  {
   "cell_type": "code",
   "execution_count": 112,
   "id": "b3bffc21-a533-4782-a954-63c58577e971",
   "metadata": {},
   "outputs": [
    {
     "name": "stdout",
     "output_type": "stream",
     "text": [
      "long_hbar_avg_N20.hdf5\n",
      "long_hbar_avg_N50.hdf5\n"
     ]
    },
    {
     "data": {
      "image/png": "[encoded data removed]",
      "text/plain": [
       "<Figure size 864x576 with 1 Axes>"
      ]
     },
     "metadata": {
      "needs_background": "light"
     },
     "output_type": "display_data"
    }
   ],
   "source": [
    "with open('datafiles.txt') as df:\n",
    "    lines = df.readlines()\n",
    "    xx = len(lines)\n",
    "    for xxi in range(xx):\n",
    "        filename = lines[xxi][:-1]\n",
    "        print(filename)\n",
    "        \n",
    "        with h5py.File(filename, \"r\") as f:\n",
    "            hbar = f['hbars'][()]\n",
    "            times = f['times'][()]\n",
    "            omega_vals = f['ws'][()]\n",
    "            N = f.attrs['N']\n",
    "            \n",
    "            hbaravg1 =[]\n",
    "            for i,w in enumerate(omega_vals):\n",
    "                hbar1 = hbar[i]\n",
    "                times1 = times[i]\n",
    "\n",
    "                hbaravg1.append(np.average(hbar1))\n",
    "            plt.plot(omega_vals,hbaravg1, label=fr\"$N={N:3d}$\")\n",
    "plt.xlabel(r\"$\\omega$\")\n",
    "plt.ylabel(r\"$\\langle\\langle H(t)\\rangle\\rangle$\")\n",
    "plt.xlim(-1,15)\n",
    "#plt.axhline(y=1.0,color='r', linestyle='--', alpha=0.5)\n",
    "plt.legend(frameon=False)\n",
    "plt.tick_params(which='both', axis='x', direction='in', width= 1.0)\n",
    "plt.tick_params(which='both', axis='y', direction='in', width= 1.0)\n",
    "plt.savefig('long_hbar.jpg', dpi= 300)\n",
    "plt.show()"
   ]
  },
  {
   "cell_type": "code",
   "execution_count": null,
   "id": "374337d2-a960-406d-b416-173e2da6b570",
   "metadata": {},
   "outputs": [],
   "source": []
  }
 ],
 "metadata": {
  "kernelspec": {
   "display_name": "Python 3 (ipykernel)",
   "language": "python",
   "name": "python3"
  },
  "language_info": {
   "codemirror_mode": {
    "name": "ipython",
    "version": 3
   },
   "file_extension": ".py",
   "mimetype": "text/x-python",
   "name": "python",
   "nbconvert_exporter": "python",
   "pygments_lexer": "ipython3",
   "version": "3.10.6"
  }
 },
 "nbformat": 4,
 "nbformat_minor": 5
}
