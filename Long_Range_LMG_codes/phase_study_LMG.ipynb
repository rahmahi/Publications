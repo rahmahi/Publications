{
 "cells": [
  {
   "cell_type": "code",
   "execution_count": 32,
   "id": "50fb2d6a",
   "metadata": {
    "ExecuteTime": {
     "end_time": "2022-12-21T04:46:28.272524Z",
     "start_time": "2022-12-21T04:46:27.362236Z"
    },
    "cell_id": "402d3d3b5af5444db097f38064ae8a4e",
    "deepnote_cell_type": "code",
    "deepnote_to_be_reexecuted": false,
    "execution_millis": 1236,
    "execution_start": 1671565596925,
    "source_hash": "e1f484e",
    "tags": []
   },
   "outputs": [
    {
     "name": "stdout",
     "output_type": "stream",
     "text": [
      "definition done!\n"
     ]
    }
   ],
   "source": [
    "from qutip import mesolve, basis, jmat\n",
    "import numpy as np\n",
    "import scipy.linalg as la\n",
    "from numpy import angle, pi\n",
    "from qutip import Qobj, propagator, floquet_modes\n",
    "import time as time\n",
    "import matplotlib.pyplot as plt\n",
    "\n",
    "def floquet_modes_phtr(H, T, args=None, parallel=False, sort=False, U=None):\n",
    "    if 'opts' in args:\n",
    "        options = args['opts']\n",
    "    else:\n",
    "        options = Options()\n",
    "        options.rhs_reuse = True\n",
    "        rhs_clear() \n",
    "    \n",
    "    if U is None:\n",
    "        U = propagator(H, T, [], args, options=options)\n",
    "    \n",
    "    evals, evecs = la.eig(U.full())\n",
    "\n",
    "    eargs = angle(evals)\n",
    "    eargs += (eargs <= -pi) * (2 * pi) + (eargs > pi) * (-2 * pi)\n",
    "    e_quasi = -eargs / T\n",
    "\n",
    "    if sort:\n",
    "        order = np.argsort(-e_quasi)\n",
    "    else:\n",
    "        order = list(range(len(evals)))\n",
    "\n",
    "    new_dims = [U.dims[0], [1] * len(U.dims[0])]\n",
    "    new_shape = [U.shape[0], 1]\n",
    "    kets_order = [Qobj(np.matrix(evecs[:, o]).T,\n",
    "                       dims=new_dims, shape=new_shape) for o in order]\n",
    "\n",
    "    return kets_order, e_quasi[order]\n",
    "\n",
    "def drive_exact(t, args):\n",
    "    w = args['omega']\n",
    "    h = args['h']\n",
    "    h0 = args['h0']\n",
    "    return h * np.cos(w*t) + h0\n",
    "\n",
    "def get_hamiltonians_exact(args):\n",
    "    N = args['N']\n",
    "    sx,sy,sz = jmat(N,\"x\"),jmat(N,\"y\"),jmat(N,\"z\")\n",
    "    kn =  2.0/(N-1)                                      # kacNorm\n",
    "    H0 = kn * sz **2\n",
    "    H1 = 2 * sx\n",
    "    return H0,H1\n",
    "\n",
    "def floq_evolv_exact(args):\n",
    "    w = args['omega']\n",
    "    T = 2 * np.pi/w\n",
    "    H0, H1 = get_hamiltonians_exact(args)\n",
    "    H = [H0,[H1,drive_exact]]\n",
    "    f_modes_0, f_energies = floquet_modes(H, T, args=args)\n",
    "    return f_modes_0, f_energies, w\n",
    "\n",
    "print('definition done!')"
   ]
  },
  {
   "cell_type": "code",
   "execution_count": 41,
   "id": "5c68d8e0-edef-4fc1-902b-fca7b3e78347",
   "metadata": {},
   "outputs": [
    {
     "name": "stdout",
     "output_type": "stream",
     "text": [
      "For N =  4 with 2 processors : time taken  0.03878445227940877  minutes !\n",
      "For N =  10 with 2 processors : time taken  0.16011041402816772  minutes !\n",
      "\n",
      " run complete!! \n",
      "\n",
      " TOTAL TIME TAKEN : 0.1989271879196167  minutes !\n",
      "its working !!\n"
     ]
    }
   ],
   "source": [
    "import numpy as np\n",
    "import matplotlib.pyplot as plt\n",
    "from multiprocessing import Pool\n",
    "from scipy.special import jn_zeros, j0\n",
    "import math\n",
    "from qutip import Options\n",
    "#from functions_needed_phase_study import*\n",
    "import h5py, time\n",
    "freezing_pts = jn_zeros(0, 500)\n",
    "start = time.time()\n",
    "\n",
    "Ns = [4, 10]\n",
    "\n",
    "# which number of floquet mode we take\n",
    "nth = 0       \n",
    "h0 = np.sqrt(3)/2**4\n",
    "ws = np.exp(np.linspace(np.log(1), np.log(100), 40))\n",
    "'''\n",
    "ws1 = np.exp(np.linspace(np.log(1.0), np.log(5), 10))\n",
    "ws2 = np.exp(np.linspace(np.log(6,), np.log(15), 30))\n",
    "ws3 = np.exp(np.linspace(np.log(17.), np.log(100.0), 10))\n",
    "ws = np.concatenate((ws1, ws3 , ws4))\n",
    "'''\n",
    "if __name__ == '__main__':\n",
    "    nprocs = 2  \n",
    "    \n",
    "    for nn,N in enumerate(Ns):\n",
    "        start1 = time.time()\n",
    "        opts = Options(nsteps = 1e4)\n",
    "        params = [{'h0':h0, 'h': 1/4 * w * freezing_pts[0], 'omega':w, 'N':N, 'opts':opts} for w in ws]\n",
    "        \n",
    "        p = Pool(processes = nprocs)  \n",
    "        data = p.map(floq_evolv_exact,params)\n",
    "\n",
    "        evec_f = np.array([np.array(data[j][0])[:,:,0] for j in range(len(ws))])\n",
    "        phs_f = np.array([np.array(data[i][1]) for i in range(len(ws))])\n",
    "        ws = np.array([data[i][2] for i in range(len(ws))])\n",
    "\n",
    "        evals_single_path = np.zeros(len(ws))\n",
    "        iprmat_single_path = np.zeros(len(ws))\n",
    "        iprmat = np.zeros((len(ws),2*N+1))\n",
    "\n",
    "        sx = jmat(N,\"x\")\n",
    "        en, st = sx.eigenstates()\n",
    "\n",
    "        for xx,w in enumerate(ws):\n",
    "            #Get the previous Floquet Eigensystem\n",
    "            if xx == 0:\n",
    "                evals_prev = phs_f[xx].real\n",
    "                evecs_prev = evec_f[xx]\n",
    "            else:\n",
    "                evals_prev = phs_f[xx-1].real\n",
    "                evecs_prev = evec_f[xx-1]\n",
    "\n",
    "            #Sort the Floquet states of this itertaion accordingly to orthonormality with the previous ones\n",
    "            evals_curr = phs_f[xx]\n",
    "            evecs_curr = evec_f[xx]\n",
    "            t = np.copy(evecs_curr)\n",
    "            condition = np.abs(np.around(evecs_prev.T.conj() @ evecs_curr, 1))\n",
    "            evals_curr = evals_curr[np.argmax(condition, axis=1)]        \n",
    "            evecs_curr = evecs_curr[:,np.argmax(condition, axis=1)]\n",
    "\n",
    "            evals_single_path[xx] = evals_curr[nth]\n",
    "            f_states = evec_f[xx]\n",
    "            iprmat[xx,:] = [np.sum([np.abs(Qobj(state).overlap(sx_ev))**4 for sx_ev in st],\\\n",
    "                                   axis=-1) for state in f_states]\n",
    "\n",
    "            iprmat_single_path[xx] = iprmat[xx,:][nth]\n",
    "       \n",
    "        # save the data\n",
    "        filename = 'phase_transition_11N_check_' + str(N) +'_.hdf5'\n",
    "\n",
    "        with h5py.File(filename, 'w') as hf:\n",
    "            hf.create_dataset('ws', np.shape(ws), data=ws)\n",
    "            hf.create_dataset('evals_single_path', np.shape(evals_single_path), data=evals_single_path)\n",
    "            hf.create_dataset('iprmat_single_path', np.shape(iprmat_single_path), data=iprmat_single_path)\n",
    "            hf.attrs['N'] = N\n",
    "            hf.attrs['nth'] = nth\n",
    "        \n",
    "        print(\"For N = \", N, \"with\", nprocs, \"processors : time taken \", (time.time()-start1)/60, ' minutes !')\n",
    "    print('\\n run complete!! \\n\\n TOTAL TIME TAKEN :', (time.time()-start)/60, ' minutes !')\n",
    "\n",
    "\n",
    "\n",
    "print('its working !!')"
   ]
  },
  {
   "cell_type": "code",
   "execution_count": 42,
   "id": "35d88204-a2e4-4a06-bb58-6dad4d96237e",
   "metadata": {
    "ExecuteTime": {
     "end_time": "2022-12-21T16:04:36.323839Z",
     "start_time": "2022-12-21T16:04:36.026014Z"
    }
   },
   "outputs": [
    {
     "name": "stdout",
     "output_type": "stream",
     "text": [
      "phase_transition_11N_check_10_.hdf5\n",
      "phase_transition_11N_check_4_.hdf5\n"
     ]
    }
   ],
   "source": [
    "!ls phase_transition_11N_check_* > file_phasetran.txt\n",
    "!cat file_phasetran.txt"
   ]
  },
  {
   "cell_type": "code",
   "execution_count": 43,
   "id": "ddec5e82-e6ec-43aa-a429-13cc272d4ef2",
   "metadata": {},
   "outputs": [
    {
     "data": {
      "image/png": "[encoded data removed]",
      "text/plain": [
       "<Figure size 600x400 with 1 Axes>"
      ]
     },
     "metadata": {},
     "output_type": "display_data"
    },
    {
     "name": "stdout",
     "output_type": "stream",
     "text": [
      "CPU times: user 636 ms, sys: 23.8 ms, total: 660 ms\n",
      "Wall time: 676 ms\n"
     ]
    }
   ],
   "source": [
    "%%time\n",
    "import matplotlib.pyplot as plt\n",
    "import h5py\n",
    "\n",
    "plt.rcParams.update({ \"figure.figsize\": (6, 4),\"text.usetex\": True,\"font.family\": \"sans-serif\",\n",
    "    \"font.size\": 17, \"font.sans-serif\": [\"Computer Modern\"]})\n",
    "\n",
    "\n",
    "with open(\"file_phasetran.txt\", 'r') as fp:\n",
    "    lines = fp.readlines()\n",
    "    x = len(lines)\n",
    "    j =0\n",
    "    \n",
    "    linest = ['dotted', 'dashed', 'dashdot','solid']\n",
    "    for i in range(0,x):\n",
    "        filename = lines[i][:-1]\n",
    "        with h5py.File(filename, 'r') as f:    \n",
    "            ws = f['ws'][()]\n",
    "            evals_single_path = f['evals_single_path'][()]\n",
    "            iprmat_single_path = f['iprmat_single_path'][()]\n",
    "            N = f.attrs['N']\n",
    "            \n",
    "            lbl = 'N=' + str(N)\n",
    "            plt.plot(ws, iprmat_single_path, label = lbl, linestyle= linest[i] )\n",
    "                \n",
    "plt.ylabel(r\"$\\phi_{{_{{IPR}}}}$\")\n",
    "plt.xlabel(r\"$\\omega$\")\n",
    "plt.ylim(-0.05,1.1)\n",
    "plt.xlim(1,ws[-1])\n",
    "plt.xscale('log')\n",
    "\n",
    "figname= \"phase_dynam1.jpeg\" \n",
    "\n",
    "plt.tick_params(which='both',axis=\"x\", direction=\"in\")\n",
    "plt.tick_params(axis=\"y\", direction=\"in\")\n",
    "plt.tight_layout()\n",
    "plt.legend(frameon = False, loc = 4,fontsize= 10)\n",
    "#plt.savefig(figname,dpi=600)\n",
    "plt.show()"
   ]
  }
 ],
 "metadata": {
  "hide_input": false,
  "kernelspec": {
   "display_name": "Python 3 (ipykernel)",
   "language": "python",
   "name": "python3"
  },
  "language_info": {
   "codemirror_mode": {
    "name": "ipython",
    "version": 3
   },
   "file_extension": ".py",
   "mimetype": "text/x-python",
   "name": "python",
   "nbconvert_exporter": "python",
   "pygments_lexer": "ipython3",
   "version": "3.8.18"
  },
  "toc": {
   "base_numbering": 1,
   "nav_menu": {},
   "number_sections": true,
   "sideBar": true,
   "skip_h1_title": false,
   "title_cell": "Table of Contents",
   "title_sidebar": "Contents",
   "toc_cell": false,
   "toc_position": {},
   "toc_section_display": true,
   "toc_window_display": false
  },
  "varInspector": {
   "cols": {
    "lenName": 16,
    "lenType": 16,
    "lenVar": 40
   },
   "kernels_config": {
    "python": {
     "delete_cmd_postfix": "",
     "delete_cmd_prefix": "del ",
     "library": "var_list.py",
     "varRefreshCmd": "print(var_dic_list())"
    },
    "r": {
     "delete_cmd_postfix": ") ",
     "delete_cmd_prefix": "rm(",
     "library": "var_list.r",
     "varRefreshCmd": "cat(var_dic_list()) "
    }
   },
   "types_to_exclude": [
    "module",
    "function",
    "builtin_function_or_method",
    "instance",
    "_Feature"
   ],
   "window_display": false
  }
 },
 "nbformat": 4,
 "nbformat_minor": 5
}
