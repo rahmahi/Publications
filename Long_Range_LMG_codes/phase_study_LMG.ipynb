{
 "cells": [
  {
   "cell_type": "code",
   "execution_count": 1,
   "id": "80e5858f",
   "metadata": {},
   "outputs": [
    {
     "name": "stdout",
     "output_type": "stream",
     "text": [
      "definition done!\n"
     ]
    }
   ],
   "source": [
    "from qutip import mesolve, basis, jmat\n",
    "import numpy as np\n",
    "import scipy.linalg as la\n",
    "from numpy import angle, pi\n",
    "from qutip import Qobj, propagator, floquet_modes\n",
    "import time as time\n",
    "import matplotlib.pyplot as plt\n",
    "\n",
    "def floquet_modes_phtr(H, T, args=None, parallel=False, sort=False, U=None):\n",
    "    if 'opts' in args:\n",
    "        options = args['opts']\n",
    "    else:\n",
    "        options = Options()\n",
    "        options.rhs_reuse = True\n",
    "        rhs_clear() \n",
    "    if U is None:\n",
    "        # get the unitary propagator\n",
    "        U = propagator(H, T, [], args, options=options)\n",
    "\n",
    "    # find the eigenstates for the propagator\n",
    "    evals, evecs = la.eig(U.full())\n",
    "\n",
    "    eargs = angle(evals)\n",
    "\n",
    "    # make sure that the phase is in the interval [-pi, pi], so that\n",
    "    # the quasi energy is in the interval [-pi/T, pi/T] where T is the\n",
    "    # period of the driving.  eargs += (eargs <= -2*pi) * (2*pi) +\n",
    "    # (eargs > 0) * (-2*pi)\n",
    "    eargs += (eargs <= -pi) * (2 * pi) + (eargs > pi) * (-2 * pi)\n",
    "    e_quasi = -eargs / T\n",
    "\n",
    "    # sort by the quasi energy\n",
    "    if sort:\n",
    "        order = np.argsort(-e_quasi)\n",
    "    else:\n",
    "        order = list(range(len(evals)))\n",
    "\n",
    "    # prepare a list of kets for the floquet states\n",
    "    new_dims = [U.dims[0], [1] * len(U.dims[0])]\n",
    "    new_shape = [U.shape[0], 1]\n",
    "    kets_order = [Qobj(np.matrix(evecs[:, o]).T,\n",
    "                       dims=new_dims, shape=new_shape) for o in order]\n",
    "\n",
    "    return kets_order, e_quasi[order]\n",
    "\n",
    "def drive_exact(t, args):\n",
    "    w = args['omega']\n",
    "    h = args['h']\n",
    "    h0 = args['h0']\n",
    "    return h * np.cos(w*t) + h0\n",
    "\n",
    "def get_hamiltonians_exact(args):\n",
    "    N = args['N']\n",
    "    sx,sy,sz = jmat(N,\"x\"),jmat(N,\"y\"),jmat(N,\"z\")\n",
    "    kn =  2.0/(N-1)                                      # kacNorm\n",
    "    H0 = kn * sz **2\n",
    "    H1 = 2 * sx\n",
    "    return H0,H1\n",
    "\n",
    "def floq_evolv_exact(args):\n",
    "    w = args['omega']\n",
    "    T = 2 * np.pi/w\n",
    "    H0, H1 = get_hamiltonians_exact(args)\n",
    "    H = [H0,[H1,drive_exact]]\n",
    "    try:\n",
    "        f_modes_0, f_energies = floquet_modes_phtr(H, T, args=args)\n",
    "        return f_modes_0, f_energies, w\n",
    "    except:\n",
    "        return None\n",
    "\n",
    "print('definition done!')"
   ]
  },
  {
   "cell_type": "code",
   "execution_count": 5,
   "id": "3f18221a",
   "metadata": {},
   "outputs": [
    {
     "name": "stdout",
     "output_type": "stream",
     "text": [
      "For N =  10 with 16 processors : time taken  0.019106642405192057  minutes !\n",
      "For N =  24 with 16 processors : time taken  0.09804427226384481  minutes !\n",
      "\n",
      " run complete!! \n",
      "\n",
      " TOTAL TIME TAKEN : 0.1171732227007548  minutes !\n"
     ]
    }
   ],
   "source": [
    "import numpy as np\n",
    "import matplotlib.pyplot as plt\n",
    "from multiprocessing import Pool\n",
    "from scipy.special import jn_zeros, j0\n",
    "import math\n",
    "from qutip import Options\n",
    "from itertools import compress\n",
    "\n",
    "#from tqdm import tqdm\n",
    "import h5py, time\n",
    "freezing_pts = jn_zeros(0, 3)\n",
    "start = time.time()\n",
    "\n",
    "#Ns = [10,20,30,50, 100,150]\n",
    "#ostp = [1e4,1e5,1e6,1e7,1e11, 1e14]\n",
    "\n",
    "Ns = [800]\n",
    "ostp = [1e11]\n",
    "nprocs = 48\n",
    "# which number of floquet mode we take\n",
    "nth = 0       \n",
    "h0 = np.sqrt(3)/2**4\n",
    "ws = np.exp(np.linspace(np.log(901), np.log(1100), 10))\n",
    "\n",
    "#ws1 = np.exp(np.linspace(np.log(1.0), np.log(5), 10))\n",
    "#ws2 = np.exp(np.linspace(np.log(6,), np.log(15), 30))\n",
    "#ws3 = np.exp(np.linspace(np.log(17.), np.log(100.0), 10))\n",
    "#ws = np.concatenate((ws1, ws3 , ws4))\n",
    "\n",
    "if __name__ == '__main__':    \n",
    "    for nn,N in enumerate(Ns):\n",
    "        start1 = time.time()\n",
    "        opts = Options(nsteps = ostp[nn])\n",
    "        params = [{'h0':h0, 'h': 1/4 * w * freezing_pts[0], 'omega':w, 'N':N, 'opts':opts} for w in ws]\n",
    "        \n",
    "        with Pool(processes = nprocs) as p:\n",
    "            data = p.map(floq_evolv_exact,params)\n",
    "\n",
    "        evec_f = [np.array(data[j][0])[:,:,0] if data[j] is not None else None for j in range(len(ws))]\n",
    "        boolfilt = [np.prod(a != None, dtype=bool) for a in evec_f]\n",
    "        evec_f = np.array(list(compress(evec_f, boolfilt)))\n",
    "        \n",
    "        phs_f = [np.array(data[i][1]) if data[i] is not None else None for i in range(len(ws))]\n",
    "        boolfilt = [np.prod(a != None, dtype=bool) for a in phs_f]\n",
    "        phs_f = np.array(list(compress(phs_f, boolfilt)))\n",
    "        \n",
    "        ws = [data[i][2] if data[i] is not None else None for i in range(len(ws))]\n",
    "        boolfilt = [np.prod(a != None, dtype=bool) for a in ws]\n",
    "        ws = np.array(list(compress(ws, boolfilt)))\n",
    "\n",
    "        evals_single_path = np.zeros(len(ws))\n",
    "        iprmat_single_path = np.zeros(len(ws))\n",
    "        iprmat = np.zeros((len(ws),2*N+1))\n",
    "\n",
    "        sx = jmat(N,\"x\")\n",
    "        en, st = sx.eigenstates()\n",
    "\n",
    "        for xx,w in enumerate(ws):\n",
    "            #Get the previous Floquet Eigensystem\n",
    "            if xx == 0:\n",
    "                evals_prev = phs_f[xx].real\n",
    "                evecs_prev = evec_f[xx]\n",
    "            else:\n",
    "                evals_prev = phs_f[xx-1].real\n",
    "                evecs_prev = evec_f[xx-1]\n",
    "\n",
    "            #Sort the Floquet states of this itertaion accordingly to orthonormality with the previous ones\n",
    "            evals_curr = phs_f[xx]\n",
    "            evecs_curr = evec_f[xx]\n",
    "            t = np.copy(evecs_curr)\n",
    "            condition = np.abs(np.around(evecs_prev.T.conj() @ evecs_curr, 1))\n",
    "            evals_curr = evals_curr[np.argmax(condition, axis=1)]        \n",
    "            evecs_curr = evecs_curr[:,np.argmax(condition, axis=1)]\n",
    "\n",
    "            evals_single_path[xx] = evals_curr[nth]\n",
    "            f_states = evec_f[xx]\n",
    "            iprmat[xx,:] = [np.sum([np.abs(Qobj(state).overlap(sx_ev))**4 for sx_ev in st],\\\n",
    "                                   axis=-1) for state in f_states]\n",
    "\n",
    "            iprmat_single_path[xx] = iprmat[xx,:][nth]\n",
    "\n",
    "        # save the data\n",
    "        filename = 'phase_crossover_N' + str(N) +'_.hdf5'\n",
    "\n",
    "        with h5py.File(filename, 'w') as hf:\n",
    "            hf.create_dataset('ws', np.shape(ws), data=ws)\n",
    "            hf.create_dataset('evals_single_path', np.shape(evals_single_path), data=evals_single_path)\n",
    "            hf.create_dataset('iprmat_single_path', np.shape(iprmat_single_path), data=iprmat_single_path)\n",
    "            hf.attrs['N'] = N\n",
    "            hf.attrs['nth'] = nth\n",
    "\n",
    "        print(\"For N = \", N, \"with\", nprocs, \"processors : time taken \", (time.time()-start1)/60, ' minutes !')\n",
    "    print('\\n run complete!! \\n\\n TOTAL TIME TAKEN :', (time.time()-start)/60, ' minutes !')"
   ]
  },
  {
   "cell_type": "code",
   "execution_count": 44,
   "id": "3925b707",
   "metadata": {
    "ExecuteTime": {
     "end_time": "2023-12-06T07:33:26.900582Z",
     "start_time": "2023-12-06T07:33:26.890658Z"
    }
   },
   "outputs": [],
   "source": [
    "import h5py\n",
    "filename1=\"phaserun/N_120_old.hdf5\"\n",
    "filename2=\"phaserun/phase_crossover_N120_.hdf5\"\n",
    "\n",
    "with h5py.File(filename1, 'r') as f:    \n",
    "    ws_1 = f['ws'][()]\n",
    "    evals_single_path = f['evals_single_path'][()]\n",
    "    iprmat_single_path_1 = f['iprmat_single_path'][()]\n",
    "    N = f.attrs['N']\n",
    "    data1 = np.vstack((ws_1,iprmat_single_path_1)).T\n",
    "    \n",
    "with h5py.File(filename2, 'r') as f:    \n",
    "    ws_2 = f['ws'][()]\n",
    "    evals_single_path = f['evals_single_path'][()]\n",
    "    iprmat_single_path_2 = f['iprmat_single_path'][()]\n",
    "    N = f.attrs['N']\n",
    "    data2 = np.vstack((ws_2,iprmat_single_path_2)).T\n",
    "\n",
    "N_120_data = np.concatenate((data1, data2))"
   ]
  },
  {
   "cell_type": "code",
   "execution_count": 39,
   "id": "3c149781",
   "metadata": {
    "ExecuteTime": {
     "end_time": "2023-12-06T07:32:25.389972Z",
     "start_time": "2023-12-06T07:32:25.379403Z"
    }
   },
   "outputs": [],
   "source": [
    "import h5py\n",
    "filename1=\"phaserun/N_240_old.hdf5\"\n",
    "filename2=\"phaserun/phase_crossover_N240_.hdf5\"\n",
    "\n",
    "with h5py.File(filename1, 'r') as f:    \n",
    "    ws_1 = f['ws'][()]\n",
    "    evals_single_path = f['evals_single_path'][()]\n",
    "    iprmat_single_path_1 = f['iprmat_single_path'][()]\n",
    "    N = f.attrs['N']\n",
    "    data1 = np.vstack((ws_1,iprmat_single_path_1)).T\n",
    "    \n",
    "with h5py.File(filename2, 'r') as f:    \n",
    "    ws_2 = f['ws'][()]\n",
    "    evals_single_path = f['evals_single_path'][()]\n",
    "    iprmat_single_path_2 = f['iprmat_single_path'][()]\n",
    "    N = f.attrs['N']\n",
    "    data2 = np.vstack((ws_2,iprmat_single_path_2)).T\n",
    "\n",
    "N_240_data = np.concatenate((data1, data2))"
   ]
  },
  {
   "cell_type": "code",
   "execution_count": 40,
   "id": "aba44bda",
   "metadata": {
    "ExecuteTime": {
     "end_time": "2023-12-06T07:32:27.907301Z",
     "start_time": "2023-12-06T07:32:27.897831Z"
    }
   },
   "outputs": [],
   "source": [
    "import h5py\n",
    "filename1=\"phaserun/N_480_old.hdf5\"\n",
    "filename2=\"phaserun/phase_crossover_N480_.hdf5\"\n",
    "\n",
    "with h5py.File(filename1, 'r') as f:    \n",
    "    ws_1 = f['ws'][()]\n",
    "    evals_single_path = f['evals_single_path'][()]\n",
    "    iprmat_single_path_1 = f['iprmat_single_path'][()]\n",
    "    N = f.attrs['N']\n",
    "    data1 = np.vstack((ws_1,iprmat_single_path_1)).T\n",
    "    \n",
    "with h5py.File(filename2, 'r') as f:    \n",
    "    ws_2 = f['ws'][()]\n",
    "    evals_single_path = f['evals_single_path'][()]\n",
    "    iprmat_single_path_2 = f['iprmat_single_path'][()]\n",
    "    N = f.attrs['N']\n",
    "    data2 = np.vstack((ws_2,iprmat_single_path_2)).T\n",
    "\n",
    "N_480_data = np.concatenate((data1, data2))"
   ]
  },
  {
   "cell_type": "code",
   "execution_count": 41,
   "id": "a5fb7c45",
   "metadata": {
    "ExecuteTime": {
     "end_time": "2023-12-06T07:32:31.181420Z",
     "start_time": "2023-12-06T07:32:31.170886Z"
    }
   },
   "outputs": [],
   "source": [
    "import h5py\n",
    "filename1=\"phaserun/N_800_old.hdf5\"\n",
    "filename2=\"phaserun/phase_crossover_N800_.hdf5\"\n",
    "\n",
    "with h5py.File(filename1, 'r') as f:    \n",
    "    ws_1 = f['ws'][()]\n",
    "    evals_single_path = f['evals_single_path'][()]\n",
    "    iprmat_single_path_1 = f['iprmat_single_path'][()]\n",
    "    N = f.attrs['N']\n",
    "    data1 = np.vstack((ws_1,iprmat_single_path_1)).T\n",
    "    \n",
    "with h5py.File(filename2, 'r') as f:    \n",
    "    ws_2 = f['ws'][()]\n",
    "    evals_single_path = f['evals_single_path'][()]\n",
    "    iprmat_single_path_2 = f['iprmat_single_path'][()]\n",
    "    N = f.attrs['N']\n",
    "    data2 = np.vstack((ws_2,iprmat_single_path_2)).T\n",
    "\n",
    "N_800_data = np.concatenate((data1, data2))"
   ]
  },
  {
   "cell_type": "code",
   "execution_count": 10,
   "id": "f574a391",
   "metadata": {
    "ExecuteTime": {
     "end_time": "2023-12-06T07:15:15.171723Z",
     "start_time": "2023-12-06T07:15:14.775647Z"
    }
   },
   "outputs": [
    {
     "name": "stdout",
     "output_type": "stream",
     "text": [
      "phaserun/N_120_old.hdf5\n",
      "phaserun/N_240_old.hdf5\n",
      "phaserun/N_480_old.hdf5\n",
      "phaserun/N_800_old.hdf5\n",
      "phaserun/phase_crossover_N10_.hdf5\n",
      "phaserun/phase_crossover_N120_.hdf5\n",
      "phaserun/phase_crossover_N240_.hdf5\n",
      "phaserun/phase_crossover_N30_.hdf5\n",
      "phaserun/phase_crossover_N480_.hdf5\n",
      "phaserun/phase_crossover_N60_.hdf5\n",
      "phaserun/phase_crossover_N800_.hdf5\n",
      "phaserun/phase_crossover_N960_.hdf5\n",
      "Wednesday 06 December 2023 12:45:15 PM IST\n"
     ]
    }
   ],
   "source": [
    "!ls phaserun/*.hdf5 > file_phasetran.txt\n",
    "!cat file_phasetran.txt\n",
    "!date"
   ]
  },
  {
   "cell_type": "code",
   "execution_count": 55,
   "id": "f55d4ecf",
   "metadata": {
    "ExecuteTime": {
     "end_time": "2023-12-06T07:44:44.543245Z",
     "start_time": "2023-12-06T07:44:41.146428Z"
    }
   },
   "outputs": [
    {
     "data": {
      "image/png": "[encoded data removed]",
      "text/plain": [
       "<Figure size 600x400 with 1 Axes>"
      ]
     },
     "metadata": {},
     "output_type": "display_data"
    },
    {
     "name": "stdout",
     "output_type": "stream",
     "text": [
      "CPU times: user 959 ms, sys: 313 ms, total: 1.27 s\n",
      "Wall time: 3.38 s\n"
     ]
    }
   ],
   "source": [
    "%%time\n",
    "import matplotlib.pyplot as plt\n",
    "import h5py\n",
    "\n",
    "plt.rcParams.update({ \"figure.figsize\": (6, 4),\"text.usetex\": True,\"font.family\": \"sans-serif\",\n",
    "    \"font.size\": 17, \"font.sans-serif\": [\"Computer Modern\"]})\n",
    "\n",
    "Nvals = [30, 60]\n",
    "\n",
    "for N in Nvals:\n",
    "    filename = f\"phaserun/phase_crossover_N{N}_.hdf5\" \n",
    "\n",
    "    with h5py.File(filename, 'r') as f:    \n",
    "        ws = f['ws'][()]\n",
    "        evals_single_path = f['evals_single_path'][()]\n",
    "        iprmat_single_path = f['iprmat_single_path'][()]\n",
    "        N = f.attrs['N']\n",
    "        lbl = 'N=' + str(N)\n",
    "        plt.plot(ws, iprmat_single_path, label = lbl)\n",
    "\n",
    "\n",
    "#plt.plot(N_800_data[:,0],N_800_data[:,1], label=\"N=800\")\n",
    "plt.plot(np.sort(N_120_data[:,0]),np.sort(N_120_data[:,1]), label=\"N=120\")\n",
    "plt.plot(np.sort(N_240_data[:,0]),np.sort(N_240_data[:,1]), label=\"N=240\")\n",
    "plt.plot(N_480_data[:,0],N_480_data[:,1], label=\"N=480\")\n",
    "\n",
    "Nvals= [960]\n",
    "for N in Nvals:\n",
    "    filename = f\"phaserun/phase_crossover_N{N}_.hdf5\" \n",
    "\n",
    "    with h5py.File(filename, 'r') as f:    \n",
    "        ws = f['ws'][()]\n",
    "        evals_single_path = f['evals_single_path'][()]\n",
    "        iprmat_single_path = f['iprmat_single_path'][()]\n",
    "        N = f.attrs['N']\n",
    "        lbl = 'N=' + str(N)\n",
    "        plt.plot(ws, iprmat_single_path, label = lbl)\n",
    "\n",
    "\n",
    "plt.ylabel(r\"$\\phi_{{_{{IPR}}}}$\")\n",
    "plt.xlabel(r\"$\\omega$\")\n",
    "plt.ylim(-0.05,1.1)\n",
    "plt.xlim(1,1100)\n",
    "plt.xscale('log')\n",
    "\n",
    "figname= \"phase_dynam1.jpeg\" \n",
    "\n",
    "plt.tick_params(which='both',axis=\"x\", direction=\"in\")\n",
    "plt.tick_params(axis=\"y\", direction=\"in\")\n",
    "plt.tight_layout()\n",
    "plt.legend(frameon = True, loc = 2,fontsize= 13)\n",
    "#plt.savefig(figname,dpi=600)\n",
    "plt.show()"
   ]
  },
  {
   "cell_type": "code",
   "execution_count": null,
   "id": "7882c42f",
   "metadata": {},
   "outputs": [],
   "source": []
  }
 ],
 "metadata": {
  "hide_input": false,
  "kernelspec": {
   "display_name": "Python 3 (ipykernel)",
   "language": "python",
   "name": "python3"
  },
  "language_info": {
   "codemirror_mode": {
    "name": "ipython",
    "version": 3
   },
   "file_extension": ".py",
   "mimetype": "text/x-python",
   "name": "python",
   "nbconvert_exporter": "python",
   "pygments_lexer": "ipython3",
   "version": "3.11.0"
  },
  "toc": {
   "base_numbering": 1,
   "nav_menu": {},
   "number_sections": true,
   "sideBar": true,
   "skip_h1_title": false,
   "title_cell": "Table of Contents",
   "title_sidebar": "Contents",
   "toc_cell": false,
   "toc_position": {},
   "toc_section_display": true,
   "toc_window_display": false
  },
  "varInspector": {
   "cols": {
    "lenName": 16,
    "lenType": 16,
    "lenVar": 40
   },
   "kernels_config": {
    "python": {
     "delete_cmd_postfix": "",
     "delete_cmd_prefix": "del ",
     "library": "var_list.py",
     "varRefreshCmd": "print(var_dic_list())"
    },
    "r": {
     "delete_cmd_postfix": ") ",
     "delete_cmd_prefix": "rm(",
     "library": "var_list.r",
     "varRefreshCmd": "cat(var_dic_list()) "
    }
   },
   "types_to_exclude": [
    "module",
    "function",
    "builtin_function_or_method",
    "instance",
    "_Feature"
   ],
   "window_display": false
  }
 },
 "nbformat": 4,
 "nbformat_minor": 5
}
