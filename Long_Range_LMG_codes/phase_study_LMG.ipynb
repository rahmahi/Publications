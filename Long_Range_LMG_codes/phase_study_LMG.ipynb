{
 "cells": [
  {
   "cell_type": "code",
   "execution_count": 10,
   "id": "1df1a6d4-8d36-40b5-af60-4c56ab7e8803",
   "metadata": {
    "tags": []
   },
   "outputs": [
    {
     "name": "stdout",
     "output_type": "stream",
     "text": [
      "definition done!\n"
     ]
    },
    {
     "name": "stderr",
     "output_type": "stream",
     "text": [
      "0it [00:00, ?it/s]/tmp/ipykernel_5055/2694964412.py:107: VisibleDeprecationWarning: Creating an ndarray from ragged nested sequences (which is a list-or-tuple of lists-or-tuples-or ndarrays with different lengths or shapes) is deprecated. If you meant to do this, you must specify 'dtype=object' when creating the ndarray.\n",
      "  data = np.array(p.map(floq_evolv_exact,params))\n",
      "1it [00:54, 54.89s/it]"
     ]
    },
    {
     "name": "stdout",
     "output_type": "stream",
     "text": [
      "time taken   0.9  minutes !\n",
      "\n",
      "\n",
      "\n",
      " Code Run Complete!! \n",
      "\n",
      " TOTAL TIME TAKEN :   0.9  minutes !\n"
     ]
    },
    {
     "name": "stderr",
     "output_type": "stream",
     "text": [
      "\n"
     ]
    }
   ],
   "source": [
    "import numpy as np\n",
    "import scipy.linalg as la\n",
    "from numpy import angle, pi\n",
    "from qutip import Qobj, propagator, jmat,tensor, sigmax, sigmay, sigmaz, qeye, mesolve\n",
    "from qutip.floquet import floquet_modes\n",
    "from scipy.special import j0, jn_zeros\n",
    "import h5py\n",
    "\n",
    "def floquet_modes_phtr(H, T, args=None, parallel=False, sort=False, U=None):\n",
    "    if 'opts' in args:\n",
    "        options = args['opts']\n",
    "    else:\n",
    "        options = Options()\n",
    "        options.rhs_reuse = True\n",
    "        rhs_clear() \n",
    "    \n",
    "    if U is None:\n",
    "        # get the unitary propagator\n",
    "        U = propagator(H, T, [], args, options=options)\n",
    "    \n",
    "    # find the eigenstates for the propagator\n",
    "    evals, evecs = la.eig(U.full())\n",
    "\n",
    "    eargs = angle(evals)\n",
    "\n",
    "    # make sure that the phase is in the interval [-pi, pi], so that\n",
    "    # the quasi energy is in the interval [-pi/T, pi/T] where T is the\n",
    "    # period of the driving.  eargs += (eargs <= -2*pi) * (2*pi) +\n",
    "    # (eargs > 0) * (-2*pi)\n",
    "    eargs += (eargs <= -pi) * (2 * pi) + (eargs > pi) * (-2 * pi)\n",
    "    e_quasi = -eargs / T\n",
    "\n",
    "    # sort by the quasi energy\n",
    "    if sort:\n",
    "        order = np.argsort(-e_quasi)\n",
    "    else:\n",
    "        order = list(range(len(evals)))\n",
    "\n",
    "    # prepare a list of kets for the floquet states\n",
    "    new_dims = [U.dims[0], [1] * len(U.dims[0])]\n",
    "    new_shape = [U.shape[0], 1]\n",
    "    kets_order = [Qobj(np.matrix(evecs[:, o]).T,\n",
    "                       dims=new_dims, shape=new_shape) for o in order]\n",
    "\n",
    "    return kets_order, e_quasi[order]\n",
    "\n",
    "def get_hamiltonians(N):\n",
    "    sx,sy,sz = jmat(N,\"x\"),jmat(N,\"y\"),jmat(N,\"z\")\n",
    "    kn =  2.0/(N-1)                                      \n",
    "    H0 = kn * sz **2 \n",
    "    H1 = 2 * sx \n",
    "    return H0,H1\n",
    "    \n",
    "def drive_exact(t, args):\n",
    "    h0 = args['h0']\n",
    "    w = args['omega']\n",
    "    h = args['h']\n",
    "    return h0 + h * np.cos(w * t)\n",
    "\n",
    "def floq_evolv_exact(args):\n",
    "    w = args['omega']\n",
    "    T = 2 * np.pi/w\n",
    "    N = args['N']\n",
    "    H0, H1 = get_hamiltonians(N)\n",
    "    H = [H0,[H1,drive_exact]]\n",
    "    f_modes_0, f_energies = floquet_modes_phtr(H, T, args=args)\n",
    "    return [w, f_modes_0, f_energies]\n",
    "\n",
    "print('definition done!')\n",
    "\n",
    "import numpy as np\n",
    "import matplotlib.pyplot as plt\n",
    "from multiprocessing import Pool\n",
    "from scipy.special import jn_zeros, j0\n",
    "import math, tqdm\n",
    "from qutip import Options\n",
    "#from functions_needed import*\n",
    "import h5py, time\n",
    "\n",
    "freezing_pts = jn_zeros(0, 5)\n",
    "start = time.time()\n",
    "\n",
    "#Ns = [10,20,30,50, 100,150]\n",
    "#ostp = [1e4,1e5,1e6,1e7,1e11, 1e14]\n",
    "\n",
    "Ns = [50]\n",
    "ostp = [1e6]\n",
    "\n",
    "ws1 = np.exp(np.linspace(np.log(1), np.log(20), 8))\n",
    "ws2 = np.exp(np.linspace(np.log(22), np.log(90), 8))\n",
    "ws = np.concatenate((ws1, ws2))\n",
    "h0 = np.pi/32\n",
    "\n",
    "nth = 0\n",
    "frz_nth = 0\n",
    "\n",
    "if __name__ == '__main__':\n",
    "    nprocs = 8 \n",
    "    \n",
    "    for nn,N in tqdm.tqdm(enumerate(Ns)):\n",
    "        start1 = time.time()\n",
    "        opts = Options(nsteps = ostp[nn])        \n",
    "\n",
    "        params = [{'h0':h0, 'h': w/4 * freezing_pts[frz_nth], 'omega':w, 'N':N, 'opts':opts} for w in ws]\n",
    "        p = Pool(processes = nprocs)  \n",
    "\n",
    "        data = np.array(p.map(floq_evolv_exact,params))\n",
    "        w_f = np.array(data[:,0])\n",
    "        evec_ff = np.array(data[:,1])\n",
    "        phs_f = np.array(data[:,2])\n",
    "\n",
    "        evec_f = np.array([np.array([np.array(evec_ff[j][i])[:,0].real for i in range(int(2*N+1))]) for j in range(len(ws))])\n",
    "\n",
    "        evals_single_path = np.zeros(len(ws))\n",
    "        iprmat_single_path = np.zeros(len(ws))\n",
    "        iprmat = np.zeros((len(ws),2*N+1))\n",
    "\n",
    "        sx = jmat(N,\"x\")\n",
    "        en, st = sx.eigenstates()\n",
    "\n",
    "        for xx,w in enumerate(ws):\n",
    "            #Get the previous Floquet Eigensystem\n",
    "            if xx == 0:\n",
    "                evals_prev = phs_f[xx].real\n",
    "                evecs_prev = evec_f[xx]\n",
    "            else:\n",
    "                evals_prev = phs_f[xx-1].real\n",
    "                evecs_prev = evec_f[xx-1]\n",
    "\n",
    "            #Sort the Floquet states of this itertaion accordingly to orthonormality with the previous ones\n",
    "            evals_curr = phs_f[xx]\n",
    "            evecs_curr = evec_f[xx]\n",
    "            #t = np.copy(evecs_curr)\n",
    "            condition = np.abs(np.around(evecs_prev.T.conj() @ evecs_curr, 1))   \n",
    "            evals_curr = evals_curr[np.argmax(condition, axis=1)]\n",
    "            evecs_curr = evecs_curr[:,np.argmax(condition, axis=1)]\n",
    "\n",
    "            evals_single_path[xx] = evals_curr[nth]\n",
    "\n",
    "            f_states = evec_f[xx]\n",
    "            iprmat[xx,:] = [np.sum([np.abs(Qobj(state).overlap(sx_ev))**4 for sx_ev in st], axis=-1) for state in f_states]\n",
    "            iprmat_single_path[xx] = iprmat[xx,:][nth]\n",
    "\n",
    "            # save the data\n",
    "        filename = 'phase_transition_singleparthamN_bigger_nsteps_' + str(N) +'_.hdf5'\n",
    "\n",
    "        with h5py.File(filename, 'w') as hf:\n",
    "            hf.create_dataset('ws', np.shape(ws), data=ws)\n",
    "            hf.create_dataset('iprmat_single_path', np.shape(iprmat_single_path), data=iprmat_single_path)\n",
    "            hf.create_dataset('evals_single_path', np.shape(evals_single_path), data=evals_single_path)\n",
    "            hf.attrs['N'] = N\n",
    "            hf.attrs['dc'] = h0\n",
    "        print('time taken %5.1f  minutes !'% ((time.time()-start1)/60))\n",
    "    print('\\n\\n\\n Code Run Complete!! \\n\\n TOTAL TIME TAKEN : %5.1f  minutes !' %((time.time()-start)/60))"
   ]
  },
  {
   "cell_type": "code",
   "execution_count": 11,
   "id": "35d88204-a2e4-4a06-bb58-6dad4d96237e",
   "metadata": {
    "ExecuteTime": {
     "end_time": "2022-12-21T16:04:36.323839Z",
     "start_time": "2022-12-21T16:04:36.026014Z"
    },
    "tags": []
   },
   "outputs": [
    {
     "name": "stdout",
     "output_type": "stream",
     "text": [
      "phase_transition_singleparthamN_bigger_nsteps_30_.hdf5\n",
      "phase_transition_singleparthamN_bigger_nsteps_50_.hdf5\n"
     ]
    }
   ],
   "source": [
    "!ls phase_transition_singleparthamN_bigger_nsteps_* > file_phasetran.txt\n",
    "!cat file_phasetran.txt"
   ]
  },
  {
   "cell_type": "code",
   "execution_count": 12,
   "id": "ddec5e82-e6ec-43aa-a429-13cc272d4ef2",
   "metadata": {
    "tags": []
   },
   "outputs": [
    {
     "data": {
      "image/png": "[encoded data removed]",
      "text/plain": [
       "<Figure size 600x400 with 1 Axes>"
      ]
     },
     "metadata": {},
     "output_type": "display_data"
    },
    {
     "name": "stdout",
     "output_type": "stream",
     "text": [
      "CPU times: user 218 ms, sys: 8.02 ms, total: 226 ms\n",
      "Wall time: 237 ms\n"
     ]
    }
   ],
   "source": [
    "%%time\n",
    "import matplotlib.pyplot as plt\n",
    "import h5py\n",
    "\n",
    "plt.rcParams.update({ \"figure.figsize\": (6, 4),\"text.usetex\": True,\"font.family\": \"sans-serif\",\n",
    "    \"font.size\": 17, \"font.sans-serif\": [\"Computer Modern\"]})\n",
    "\n",
    "\n",
    "with open(\"file_phasetran.txt\", 'r') as fp:\n",
    "    lines = fp.readlines()\n",
    "    x = len(lines)\n",
    "    j =0\n",
    "    \n",
    "    linest = ['dotted', 'dashed', 'dashdot','solid']\n",
    "    for i in range(0,x):\n",
    "        filename = lines[i][:-1]\n",
    "        with h5py.File(filename, 'r') as f:    \n",
    "            ws = f['ws'][()]\n",
    "            evals_single_path = f['evals_single_path'][()]\n",
    "            iprmat_single_path = f['iprmat_single_path'][()]\n",
    "            N = f.attrs['N']\n",
    "            \n",
    "            lbl = 'N=' + str(N)\n",
    "            plt.plot(ws, iprmat_single_path, label = lbl, linestyle= linest[i] )\n",
    "                \n",
    "plt.ylabel(r\"$\\phi_{{_{{IPR}}}}$\")\n",
    "plt.xlabel(r\"$\\omega$\")\n",
    "plt.ylim(-0.05,1.1)\n",
    "plt.xlim(1,ws[-1])\n",
    "plt.xscale('log')\n",
    "\n",
    "figname= \"phase_dynam1.jpeg\" \n",
    "\n",
    "plt.tick_params(which='both',axis=\"x\", direction=\"in\")\n",
    "plt.tick_params(axis=\"y\", direction=\"in\")\n",
    "plt.tight_layout()\n",
    "plt.legend(frameon = False, loc = 4,fontsize= 10)\n",
    "#plt.savefig(figname,dpi=600)\n",
    "plt.show()"
   ]
  }
 ],
 "metadata": {
  "hide_input": false,
  "kernelspec": {
   "display_name": "Python 3 (ipykernel)",
   "language": "python",
   "name": "python3"
  },
  "language_info": {
   "codemirror_mode": {
    "name": "ipython",
    "version": 3
   },
   "file_extension": ".py",
   "mimetype": "text/x-python",
   "name": "python",
   "nbconvert_exporter": "python",
   "pygments_lexer": "ipython3",
   "version": "3.8.16"
  },
  "toc": {
   "base_numbering": 1,
   "nav_menu": {},
   "number_sections": true,
   "sideBar": true,
   "skip_h1_title": false,
   "title_cell": "Table of Contents",
   "title_sidebar": "Contents",
   "toc_cell": false,
   "toc_position": {},
   "toc_section_display": true,
   "toc_window_display": false
  },
  "varInspector": {
   "cols": {
    "lenName": 16,
    "lenType": 16,
    "lenVar": 40
   },
   "kernels_config": {
    "python": {
     "delete_cmd_postfix": "",
     "delete_cmd_prefix": "del ",
     "library": "var_list.py",
     "varRefreshCmd": "print(var_dic_list())"
    },
    "r": {
     "delete_cmd_postfix": ") ",
     "delete_cmd_prefix": "rm(",
     "library": "var_list.r",
     "varRefreshCmd": "cat(var_dic_list()) "
    }
   },
   "types_to_exclude": [
    "module",
    "function",
    "builtin_function_or_method",
    "instance",
    "_Feature"
   ],
   "window_display": false
  }
 },
 "nbformat": 4,
 "nbformat_minor": 5
}
