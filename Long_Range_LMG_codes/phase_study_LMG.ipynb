{
 "cells": [
  {
   "cell_type": "code",
   "execution_count": 1,
   "id": "471a10aa-c233-4413-88ac-0c42e06bb139",
   "metadata": {},
   "outputs": [
    {
     "name": "stdout",
     "output_type": "stream",
     "text": [
      "definition done!\n"
     ]
    }
   ],
   "source": [
    "from qutip import mesolve, basis, jmat\n",
    "import numpy as np\n",
    "import scipy.linalg as la\n",
    "from numpy import angle, pi\n",
    "from qutip import Qobj, propagator, floquet_modes\n",
    "import time as time\n",
    "import matplotlib.pyplot as plt\n",
    "\n",
    "def floquet_modes_phtr(H, T, args=None, parallel=False, sort=False, U=None):\n",
    "    if 'opts' in args:\n",
    "        options = args['opts']\n",
    "    else:\n",
    "        options = Options()\n",
    "        options.rhs_reuse = True\n",
    "        rhs_clear() \n",
    "    if U is None:\n",
    "        # get the unitary propagator\n",
    "        U = propagator(H, T, [], args, options=options)\n",
    "\n",
    "    # find the eigenstates for the propagator\n",
    "    evals, evecs = la.eig(U.full())\n",
    "\n",
    "    eargs = angle(evals)\n",
    "\n",
    "    # make sure that the phase is in the interval [-pi, pi], so that\n",
    "    # the quasi energy is in the interval [-pi/T, pi/T] where T is the\n",
    "    # period of the driving.  eargs += (eargs <= -2*pi) * (2*pi) +\n",
    "    # (eargs > 0) * (-2*pi)\n",
    "    eargs += (eargs <= -pi) * (2 * pi) + (eargs > pi) * (-2 * pi)\n",
    "    e_quasi = -eargs / T\n",
    "\n",
    "    # sort by the quasi energy\n",
    "    if sort:\n",
    "        order = np.argsort(-e_quasi)\n",
    "    else:\n",
    "        order = list(range(len(evals)))\n",
    "\n",
    "    # prepare a list of kets for the floquet states\n",
    "    new_dims = [U.dims[0], [1] * len(U.dims[0])]\n",
    "    new_shape = [U.shape[0], 1]\n",
    "    kets_order = [Qobj(np.matrix(evecs[:, o]).T,\n",
    "                       dims=new_dims, shape=new_shape) for o in order]\n",
    "\n",
    "    return kets_order, e_quasi[order]\n",
    "\n",
    "def drive_exact(t, args):\n",
    "    w = args['omega']\n",
    "    h = args['h']\n",
    "    h0 = args['h0']\n",
    "    return h * np.cos(w*t) + h0\n",
    "\n",
    "def get_hamiltonians_exact(args):\n",
    "    N = args['N']\n",
    "    sx,sy,sz = jmat(N,\"x\"),jmat(N,\"y\"),jmat(N,\"z\")\n",
    "    kn =  2.0/(N-1)                                      # kacNorm\n",
    "    H0 = kn * sz **2\n",
    "    H1 = 2 * sx\n",
    "    return H0,H1\n",
    "\n",
    "def floq_evolv_exact(args):\n",
    "    w = args['omega']\n",
    "    T = 2 * np.pi/w\n",
    "    H0, H1 = get_hamiltonians_exact(args)\n",
    "    H = [H0,[H1,drive_exact]]\n",
    "    try:\n",
    "        f_modes_0, f_energies = floquet_modes_phtr(H, T, args=args)\n",
    "        return f_modes_0, f_energies, w\n",
    "    except:\n",
    "        return None\n",
    "\n",
    "print('definition done!')"
   ]
  },
  {
   "cell_type": "code",
   "execution_count": 5,
   "id": "7883ed85-4d02-4547-9fbe-827b81f1c31a",
   "metadata": {},
   "outputs": [
    {
     "name": "stdout",
     "output_type": "stream",
     "text": [
      "For N =  10 with 16 processors : time taken  0.019106642405192057  minutes !\n",
      "For N =  24 with 16 processors : time taken  0.09804427226384481  minutes !\n",
      "\n",
      " run complete!! \n",
      "\n",
      " TOTAL TIME TAKEN : 0.1171732227007548  minutes !\n"
     ]
    }
   ],
   "source": [
    "import numpy as np\n",
    "import matplotlib.pyplot as plt\n",
    "from multiprocessing import Pool\n",
    "from scipy.special import jn_zeros, j0\n",
    "import math\n",
    "from qutip import Options\n",
    "from itertools import compress\n",
    "\n",
    "#from tqdm import tqdm\n",
    "import h5py, time\n",
    "freezing_pts = jn_zeros(0, 500)\n",
    "start = time.time()\n",
    "\n",
    "#Ns = [10,20,30,50, 100,150]\n",
    "#ostp = [1e4,1e5,1e6,1e7,1e11, 1e14]\n",
    "\n",
    "Ns = [10, 24]\n",
    "ostp = [1e5, 1e7]\n",
    "nprocs = 16\n",
    "# which number of floquet mode we take\n",
    "nth = 0       \n",
    "h0 = np.sqrt(3)/2**4\n",
    "ws = np.exp(np.linspace(np.log(1), np.log(100), 20))\n",
    "\n",
    "#ws1 = np.exp(np.linspace(np.log(1.0), np.log(5), 10))\n",
    "#ws2 = np.exp(np.linspace(np.log(6,), np.log(15), 30))\n",
    "#ws3 = np.exp(np.linspace(np.log(17.), np.log(100.0), 10))\n",
    "#ws = np.concatenate((ws1, ws3 , ws4))\n",
    "ws = np.exp(np.linspace(np.log(1), np.log(100), 10))\n",
    "\n",
    "if __name__ == '__main__':    \n",
    "    for nn,N in enumerate(Ns):\n",
    "        start1 = time.time()\n",
    "        opts = Options(nsteps = 1e4)\n",
    "        params = [{'h0':h0, 'h': 1/4 * w * freezing_pts[0], 'omega':w, 'N':N, 'opts':opts} for w in ws]\n",
    "        \n",
    "        with Pool(processes = nprocs) as p:\n",
    "            data = p.map(floq_evolv_exact,params)\n",
    "\n",
    "        evec_f = [np.array(data[j][0])[:,:,0] if data[j] is not None else None for j in range(len(ws))]\n",
    "        boolfilt = [np.prod(a != None, dtype=bool) for a in evec_f]\n",
    "        evec_f = np.array(list(compress(evec_f, boolfilt)))\n",
    "        \n",
    "        phs_f = [np.array(data[i][1]) if data[i] is not None else None for i in range(len(ws))]\n",
    "        boolfilt = [np.prod(a != None, dtype=bool) for a in phs_f]\n",
    "        phs_f = np.array(list(compress(phs_f, boolfilt)))\n",
    "        \n",
    "        ws = [data[i][2] if data[i] is not None else None for i in range(len(ws))]\n",
    "        boolfilt = [np.prod(a != None, dtype=bool) for a in ws]\n",
    "        ws = np.array(list(compress(ws, boolfilt)))\n",
    "\n",
    "        evals_single_path = np.zeros(len(ws))\n",
    "        iprmat_single_path = np.zeros(len(ws))\n",
    "        iprmat = np.zeros((len(ws),2*N+1))\n",
    "\n",
    "        sx = jmat(N,\"x\")\n",
    "        en, st = sx.eigenstates()\n",
    "\n",
    "        for xx,w in enumerate(ws):\n",
    "            #Get the previous Floquet Eigensystem\n",
    "            if xx == 0:\n",
    "                evals_prev = phs_f[xx].real\n",
    "                evecs_prev = evec_f[xx]\n",
    "            else:\n",
    "                evals_prev = phs_f[xx-1].real\n",
    "                evecs_prev = evec_f[xx-1]\n",
    "\n",
    "            #Sort the Floquet states of this itertaion accordingly to orthonormality with the previous ones\n",
    "            evals_curr = phs_f[xx]\n",
    "            evecs_curr = evec_f[xx]\n",
    "            t = np.copy(evecs_curr)\n",
    "            condition = np.abs(np.around(evecs_prev.T.conj() @ evecs_curr, 1))\n",
    "            evals_curr = evals_curr[np.argmax(condition, axis=1)]        \n",
    "            evecs_curr = evecs_curr[:,np.argmax(condition, axis=1)]\n",
    "\n",
    "            evals_single_path[xx] = evals_curr[nth]\n",
    "            f_states = evec_f[xx]\n",
    "            iprmat[xx,:] = [np.sum([np.abs(Qobj(state).overlap(sx_ev))**4 for sx_ev in st],\\\n",
    "                                   axis=-1) for state in f_states]\n",
    "\n",
    "            iprmat_single_path[xx] = iprmat[xx,:][nth]\n",
    "\n",
    "        # save the data\n",
    "        filename = 'phase_crossover_N' + str(N) +'_.hdf5'\n",
    "\n",
    "        with h5py.File(filename, 'w') as hf:\n",
    "            hf.create_dataset('ws', np.shape(ws), data=ws)\n",
    "            hf.create_dataset('evals_single_path', np.shape(evals_single_path), data=evals_single_path)\n",
    "            hf.create_dataset('iprmat_single_path', np.shape(iprmat_single_path), data=iprmat_single_path)\n",
    "            hf.attrs['N'] = N\n",
    "            hf.attrs['nth'] = nth\n",
    "\n",
    "        print(\"For N = \", N, \"with\", nprocs, \"processors : time taken \", (time.time()-start1)/60, ' minutes !')\n",
    "    print('\\n run complete!! \\n\\n TOTAL TIME TAKEN :', (time.time()-start)/60, ' minutes !')"
   ]
  },
  {
   "cell_type": "code",
   "execution_count": 3,
   "id": "a1a1c9f1-5b84-4b06-aefd-45e066d1274d",
   "metadata": {},
   "outputs": [
    {
     "name": "stdout",
     "output_type": "stream",
     "text": [
      "phase_crossover_N10_.hdf5\n",
      "phase_crossover_N120_.hdf5\n",
      "phase_crossover_N30_.hdf5\n",
      "Wednesday 29 November 2023 12:17:55 PM IST\n"
     ]
    }
   ],
   "source": [
    "!ls phase_crossover_N* > file_phasetran.txt\n",
    "!cat file_phasetran.txt\n",
    "!date"
   ]
  },
  {
   "cell_type": "code",
   "execution_count": 49,
   "id": "cdf4b6c6",
   "metadata": {},
   "outputs": [
    {
     "data": {
      "text/plain": [
       "[array([[0.16763775, 0.90080535, 0.79312709, 0.51439138],\n",
       "        [0.27260725, 0.28000401, 0.45318947, 0.19890146],\n",
       "        [0.53947264, 0.99296386, 0.92627206, 0.70652632],\n",
       "        [0.97017074, 0.58974918, 0.11940856, 0.85561888]]),\n",
       " array([[0.82687158, 0.92656347, 0.65027796, 0.24252265],\n",
       "        [0.9112022 , 0.40551863, 0.91539529, 0.47126413],\n",
       "        [0.57065979, 0.91605396, 0.30176122, 0.1499599 ],\n",
       "        [0.18446573, 0.78490524, 0.7265288 , 0.77540056]]),\n",
       " None]"
      ]
     },
     "metadata": {},
     "output_type": "display_data"
    },
    {
     "data": {
      "text/plain": [
       "array([[[0.16763775, 0.90080535, 0.79312709, 0.51439138],\n",
       "        [0.27260725, 0.28000401, 0.45318947, 0.19890146],\n",
       "        [0.53947264, 0.99296386, 0.92627206, 0.70652632],\n",
       "        [0.97017074, 0.58974918, 0.11940856, 0.85561888]],\n",
       "\n",
       "       [[0.82687158, 0.92656347, 0.65027796, 0.24252265],\n",
       "        [0.9112022 , 0.40551863, 0.91539529, 0.47126413],\n",
       "        [0.57065979, 0.91605396, 0.30176122, 0.1499599 ],\n",
       "        [0.18446573, 0.78490524, 0.7265288 , 0.77540056]]])"
      ]
     },
     "execution_count": 49,
     "metadata": {},
     "output_type": "execute_result"
    }
   ],
   "source": [
    "import numpy as np\n",
    "\n",
    "ihlist = [np.random.random((4,4)),np.random.random((4,4)), None]\n",
    "display(ihlist)\n",
    "boolfilt = [np.prod(a != None, dtype=bool) for a in ihlist]\n",
    "np.array(list(compress(ihlist, boolfilt)))"
   ]
  },
  {
   "cell_type": "code",
   "execution_count": 21,
   "id": "224a7a0d",
   "metadata": {},
   "outputs": [
    {
     "data": {
      "text/plain": [
       "True"
      ]
     },
     "execution_count": 21,
     "metadata": {},
     "output_type": "execute_result"
    }
   ],
   "source": [
    "ihlist != None"
   ]
  },
  {
   "cell_type": "code",
   "execution_count": null,
   "id": "8bdb14af",
   "metadata": {},
   "outputs": [],
   "source": []
  }
 ],
 "metadata": {
  "hide_input": false,
  "kernelspec": {
   "display_name": "Python 3 (ipykernel)",
   "language": "python",
   "name": "python3"
  },
  "language_info": {
   "codemirror_mode": {
    "name": "ipython",
    "version": 3
   },
   "file_extension": ".py",
   "mimetype": "text/x-python",
   "name": "python",
   "nbconvert_exporter": "python",
   "pygments_lexer": "ipython3",
   "version": "3.11.6"
  },
  "toc": {
   "base_numbering": 1,
   "nav_menu": {},
   "number_sections": true,
   "sideBar": true,
   "skip_h1_title": false,
   "title_cell": "Table of Contents",
   "title_sidebar": "Contents",
   "toc_cell": false,
   "toc_position": {},
   "toc_section_display": true,
   "toc_window_display": false
  },
  "varInspector": {
   "cols": {
    "lenName": 16,
    "lenType": 16,
    "lenVar": 40
   },
   "kernels_config": {
    "python": {
     "delete_cmd_postfix": "",
     "delete_cmd_prefix": "del ",
     "library": "var_list.py",
     "varRefreshCmd": "print(var_dic_list())"
    },
    "r": {
     "delete_cmd_postfix": ") ",
     "delete_cmd_prefix": "rm(",
     "library": "var_list.r",
     "varRefreshCmd": "cat(var_dic_list()) "
    }
   },
   "types_to_exclude": [
    "module",
    "function",
    "builtin_function_or_method",
    "instance",
    "_Feature"
   ],
   "window_display": false
  }
 },
 "nbformat": 4,
 "nbformat_minor": 5
}
