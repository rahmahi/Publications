{
 "cells": [
  {
   "cell_type": "markdown",
   "id": "95569402-e6cd-41d7-a5f8-2938dc4b773f",
   "metadata": {},
   "source": [
    "$\\langle \\hat{S^x}\\rangle\\vert_t$ over frequncies"
   ]
  },
  {
   "cell_type": "markdown",
   "id": "8361873c-c825-4aa4-8ae1-89e30dbcb476",
   "metadata": {},
   "source": [
    "# Define functions"
   ]
  },
  {
   "cell_type": "code",
   "execution_count": 15,
   "id": "bfa6b408-c304-4811-8ecd-d6b2cf56ad65",
   "metadata": {},
   "outputs": [
    {
     "name": "stdout",
     "output_type": "stream",
     "text": [
      "Funcs defined !\n"
     ]
    }
   ],
   "source": [
    "def drive(t, args):\n",
    "    h0, h, w = args['h0'], args['h'], args['omega']\n",
    "    return h0 + h * np.cos(w * t)\n",
    "\n",
    "def get_ham_tss(N):\n",
    "    sx,sy,sz = jmat(N,\"x\"),jmat(N,\"y\"),jmat(N,\"z\")\n",
    "    kn =  2.0/N                                    # kacNorm\n",
    "    H0 = kn * sz **2\n",
    "    H1 = 2 * sx\n",
    "    return H0,H1,sx,sy,sz\n",
    "\n",
    "def run_dynm_tss(w,N):\n",
    "    h = 1/4 * freezing_pts[0] * w\n",
    "    params = {'h0':np.pi/32, 'h':h, 'omega':w}\n",
    "    T = 2 * np.pi/w\n",
    "    times = np.linspace(0,30*T,200)\n",
    "        \n",
    "    H0, H1, Sx, Sy, Sz = get_ham_tss(N)\n",
    "    \n",
    "    en, st = H1.eigenstates()\n",
    "    #a = np.where(np.isclose(en, 1.0, rtol=1e-05, atol=1e-08))\n",
    "    #print(\"en\",en,\"\\npoint\\n\", a[0][0])\n",
    "    a = np.where(np.isclose(en, max(en)))\n",
    "    grket = st[a[0][0]]\n",
    "    \n",
    "    H = [H0,[H1,drive]]\n",
    "    out = mesolve(H, grket, times,[], [H1/(2*N)], args = params)\n",
    "    return np.average(out.expect)\n",
    "\n",
    "def run_sx_tss(h,w,N):\n",
    "    params = {'h0':np.pi/32, 'h':h, 'omega':w}\n",
    "    T = 2 * np.pi/w\n",
    "    times = np.linspace(0,30*T,200)\n",
    "        \n",
    "    H0, H1, Sx, Sy, Sz = get_ham_tss(N)\n",
    "    \n",
    "    en, st = H1.eigenstates()\n",
    "    #a = np.where(np.isclose(en, 1.0, rtol=1e-05, atol=1e-08))\n",
    "    #print(\"en\",en,\"\\npoint\\n\", a[0][0])\n",
    "    a = np.where(np.isclose(en, max(en)))\n",
    "    grket = st[a[0][0]]\n",
    "    \n",
    "    H = [H0,[H1,drive]]\n",
    "\n",
    "    S2 =  Sx * Sx + Sy * Sy + Sz * Sz \n",
    "    out = mesolve(H, grket, times,[], [H1/(2*N)], args = params)\n",
    "    return np.average(out.expect)\n",
    "\n",
    "print(\"Funcs defined !\")"
   ]
  },
  {
   "cell_type": "code",
   "execution_count": null,
   "id": "6161e4fc-0e8d-44f6-acb7-9e4217e3327a",
   "metadata": {},
   "outputs": [],
   "source": [
    "%%time\n",
    "from qutip import *\n",
    "import matplotlib.pyplot as plt\n",
    "from tqdm import tqdm\n",
    "from multiprocessing import Pool\n",
    "from scipy.special import j0, jn_zeros\n",
    "import numpy as np\n",
    "freezing_pts = jn_zeros(0, 5)\n",
    "\n",
    "\n",
    "plt.rcParams.update({\"figure.figsize\": (10, 6),\"text.usetex\": True,\"font.family\": \"sans-serif\",\n",
    "    \"font.size\": 13,\"font.sans-serif\": [\"Helvetica\"], \"axes.edgecolor\": \"black\", \"axes.linewidth\": 1.00})\n",
    "\n",
    "\n",
    "\n",
    "if __name__ == '__main__':\n",
    "    nprocs = 2       \n",
    "    N = 2              #total spin in TSS\n",
    "    h0 = np.pi/32\n",
    "    ws = np.linspace(1,90,100)\n",
    "    \n",
    "    p = Pool(processes = nprocs)\n",
    "    print(\"running for TSS spin=\",N,\" with\", nprocs,\" processors!\")\n",
    "    \n",
    "    data = np.array(p.starmap(run_dynm_tss,tqdm([(w,N) for w in ws])))\n",
    "    \n",
    "    plt.plot(ws, data)\n",
    "    plt.ylabel(r\"$\\overline{\\langle S^x \\rangle}$\")\n",
    "    plt.xlabel(r\"$\\omega$\")\n",
    "    plt.tick_params(which='both', axis=\"x\", direction=\"in\")\n",
    "    plt.tick_params(which='both', axis=\"y\", direction=\"in\")\n",
    "    plt.show()"
   ]
  },
  {
   "cell_type": "markdown",
   "id": "6b143949-29fa-42e9-96e1-bf1bb4b7007a",
   "metadata": {},
   "source": [
    "#### Multiple N"
   ]
  },
  {
   "cell_type": "code",
   "execution_count": 9,
   "id": "941fcb81-9188-4f1e-8a62-f0b2f2481983",
   "metadata": {},
   "outputs": [
    {
     "name": "stdout",
     "output_type": "stream",
     "text": [
      "running for TSS spin= 10  with 2  processors!\n",
      "running for TSS spin= 20  with 2  processors!\n"
     ]
    },
    {
     "data": {
      "image/png": "[encoded data removed]",
      "text/plain": [
       "<Figure size 600x400 with 1 Axes>"
      ]
     },
     "metadata": {},
     "output_type": "display_data"
    },
    {
     "name": "stdout",
     "output_type": "stream",
     "text": [
      "CPU times: user 357 ms, sys: 78.1 ms, total: 435 ms\n",
      "Wall time: 35 s\n"
     ]
    }
   ],
   "source": [
    "%%time\n",
    "from qutip import *\n",
    "import matplotlib.pyplot as plt\n",
    "from tqdm import tqdm\n",
    "from multiprocessing import Pool\n",
    "from scipy.special import j0, jn_zeros\n",
    "import numpy as np\n",
    "freezing_pts = jn_zeros(0, 5)\n",
    "\n",
    "\n",
    "plt.rcParams.update({\"figure.figsize\": (6, 4),\"text.usetex\": True,\"font.family\": \"sans-serif\",\n",
    "    \"font.size\": 15,\"font.sans-serif\": [\"Helvetica\"], \"axes.edgecolor\": \"black\", \"axes.linewidth\": 1.00})\n",
    "\n",
    "\n",
    "\n",
    "if __name__ == '__main__':\n",
    "    nprocs = 2       \n",
    "    Ns = [10,20]              #total spin in TSS\n",
    "    h0 = np.pi/32\n",
    "    ws = np.linspace(1,10,100)\n",
    "    \n",
    "    for nn,N in enumerate(Ns):\n",
    "        p = Pool(processes = nprocs)\n",
    "        print(\"running for TSS spin=\",N,\" with\", nprocs,\" processors!\")\n",
    "\n",
    "        data = np.array(p.starmap(run_dynm_tss,[(w,N) for w in ws]))\n",
    "        plt.plot(ws, data, label = fr\"N-{N}\")\n",
    "        \n",
    "    plt.ylabel(r\"$\\overline{\\langle S^x \\rangle}$\")\n",
    "    plt.xlabel(r\"$\\omega$\")\n",
    "    plt.tick_params(which='both', axis=\"x\", direction=\"in\")\n",
    "    plt.tick_params(which='both', axis=\"y\", direction=\"in\")\n",
    "    plt.legend(frameon = False, fontsize = 14)\n",
    "    #plt.savefig('sx_multN.jpeg',dpi = 600)\n",
    "    #plt.savefig('sx_multN.svg',dpi = 600)\n",
    "    plt.show()"
   ]
  },
  {
   "cell_type": "code",
   "execution_count": null,
   "id": "06335284-0c88-4af8-9596-c55ed666f5eb",
   "metadata": {},
   "outputs": [],
   "source": []
  },
  {
   "cell_type": "code",
   "execution_count": null,
   "id": "00dbad8d-dc12-4f43-9bc6-d6553ef22b8a",
   "metadata": {},
   "outputs": [],
   "source": []
  },
  {
   "cell_type": "code",
   "execution_count": 54,
   "id": "451a2950-bc0c-4596-a371-5cfa66b3ab9c",
   "metadata": {},
   "outputs": [
    {
     "name": "stdout",
     "output_type": "stream",
     "text": [
      "Funcs defined !\n"
     ]
    }
   ],
   "source": [
    "def drive(t, args):\n",
    "    h0, h, w = args['h0'], args['h'], args['omega']\n",
    "    return h0 + h * np.cos(w * t)\n",
    "\n",
    "def get_ham_tss(N):\n",
    "    sx,sy,sz = jmat(N,\"x\"),jmat(N,\"y\"),jmat(N,\"z\")\n",
    "    kn =  2.0/N                                    # kacNorm\n",
    "    H0 = kn * sz **2\n",
    "    H1 = 2 * sx\n",
    "    return H0,H1,sx,sy,sz\n",
    "\n",
    "def run_dynm_tss(w,N):\n",
    "    h = 1/4 * freezing_pts[0] * w\n",
    "    params = {'h0':np.pi/32, 'h':h, 'omega':w}\n",
    "    T = 2 * np.pi/w\n",
    "    times = np.linspace(0,10000*T,50000)\n",
    "        \n",
    "    H0, H1, Sx, Sy, Sz = get_ham_tss(N)\n",
    "    \n",
    "    en, st = H1.eigenstates()\n",
    "    #a = np.where(np.isclose(en, 1.0, rtol=1e-05, atol=1e-08))\n",
    "    #print(\"en\",en,\"\\npoint\\n\", a[0][0])\n",
    "    a = np.where(np.isclose(en, max(en)))\n",
    "    grket = st[a[0][0]]\n",
    "    \n",
    "    H = [H0,[H1,drive]]\n",
    "\n",
    "    S2 =  Sx * Sx + Sy * Sy + Sz * Sz \n",
    "    out = mesolve(H, grket, times,[], [H1/(2*N)], args = params)\n",
    "    return np.average(out.expect)\n",
    "\n",
    "def run_sx_tss(h,w,N):\n",
    "    opts = Options(nsteps=1e8)\n",
    "    params = {'h0':np.pi/32, 'h':h, 'omega':w, 'opts':opts}\n",
    "    T = 2 * np.pi/w\n",
    "    times = np.linspace(0,200*T,5000)\n",
    "        \n",
    "    H0, H1, Sx, Sy, Sz = get_ham_tss(N)\n",
    "    \n",
    "    en, st = H1.eigenstates()\n",
    "    #a = np.where(np.isclose(en, 1.0, rtol=1e-05, atol=1e-08))\n",
    "    #print(\"en\",en,\"\\npoint\\n\", a[0][0])\n",
    "    a = np.where(np.isclose(en, max(en)))\n",
    "    grket = st[a[0][0]]\n",
    "    \n",
    "    H = [H0,[H1,drive]]\n",
    "\n",
    "    S2 =  Sx * Sx + Sy * Sy + Sz * Sz \n",
    "    out = mesolve(H, grket, times,[], [H1/(2*N)], args = params)\n",
    "    return np.average(out.expect)\n",
    "\n",
    "print(\"Funcs defined !\")"
   ]
  },
  {
   "cell_type": "code",
   "execution_count": 55,
   "id": "8e1e1807-c6f0-4c82-aa82-6d5d25afe205",
   "metadata": {},
   "outputs": [
    {
     "name": "stderr",
     "output_type": "stream",
     "text": [
      "1it [08:40, 520.21s/it]"
     ]
    },
    {
     "name": "stdout",
     "output_type": "stream",
     "text": [
      "CPU times: user 70 ms, sys: 125 ms, total: 194 ms\n",
      "Wall time: 8min 40s\n"
     ]
    },
    {
     "name": "stderr",
     "output_type": "stream",
     "text": [
      "\n"
     ]
    }
   ],
   "source": [
    "%%time\n",
    "from qutip import *\n",
    "import matplotlib.pyplot as plt\n",
    "from tqdm import tqdm\n",
    "from multiprocessing import Pool\n",
    "from scipy.special import j0, jn_zeros\n",
    "import numpy as np\n",
    "freezing_pts = jn_zeros(0, 5)\n",
    "import h5py\n",
    "\n",
    "\n",
    "plt.rcParams.update({\"figure.figsize\": (6, 4),\"text.usetex\": True,\"font.family\": \"sans-serif\",\n",
    "    \"font.size\": 15,\"font.sans-serif\": [\"Helvetica\"], \"axes.edgecolor\": \"black\", \"axes.linewidth\": 1.00})\n",
    "\n",
    "\n",
    "\n",
    "if __name__ == '__main__':\n",
    "    nprocs = 10      \n",
    "    Ns = [50]              #total spin in TSS\n",
    "    h0 = np.pi/32\n",
    "    w = 90.0\n",
    "    hss = w/4 * np.linspace(0, 16.0, 100)\n",
    "    hhs = np.sort(np.append(hss, jn_zeros(0,5)))\n",
    "    \n",
    "    for nn,N in tqdm(enumerate(Ns)):\n",
    "        p = Pool(processes = nprocs)\n",
    "\n",
    "        datasx = np.array(p.starmap(run_sx_tss,[(h,w,N) for h in hhs]))\n",
    "        fname = 'sx_avg_ws1_N' + str(N) + '.hdf5'\n",
    "\n",
    "        with h5py.File(fname,'w') as hf:\n",
    "            data = hf.create_dataset('datasx', np.shape(datasx), data = datasx)\n",
    "            hs = hf.create_dataset('hhs', np.shape(hhs), data = hhs)\n",
    "            hf.attrs['N'] = N\n",
    "            hf.attrs['w'] = w"
   ]
  },
  {
   "cell_type": "code",
   "execution_count": 56,
   "id": "1f0692fe-bd79-45e2-9131-2d85d4660a81",
   "metadata": {},
   "outputs": [],
   "source": [
    "!ls sx_avg_ws1_N* >sx_avg_ws_datafiles.txt"
   ]
  },
  {
   "cell_type": "code",
   "execution_count": 57,
   "id": "144ed051-83a6-458d-8807-174cd68a6fc6",
   "metadata": {},
   "outputs": [
    {
     "name": "stdout",
     "output_type": "stream",
     "text": [
      "sx_avg_ws1_N50.hdf5\n"
     ]
    }
   ],
   "source": [
    "!cat sx_avg_ws_datafiles.txt"
   ]
  },
  {
   "cell_type": "code",
   "execution_count": 58,
   "id": "b01816f5-5d0f-4e97-962f-e1eeec8968b7",
   "metadata": {},
   "outputs": [
    {
     "name": "stdout",
     "output_type": "stream",
     "text": [
      "sx_avg_ws1_N50.hdf5\n"
     ]
    },
    {
     "data": {
      "image/png": "[encoded data removed]",
      "text/plain": [
       "<Figure size 864x576 with 1 Axes>"
      ]
     },
     "metadata": {
      "needs_background": "light"
     },
     "output_type": "display_data"
    }
   ],
   "source": [
    "import h5py\n",
    "import numpy as np\n",
    "import matplotlib.pyplot as plt\n",
    "\n",
    "plt.rcParams.update({\"figure.figsize\": (12, 8),\"text.usetex\": True,\"font.family\": \"sans-serif\",\n",
    "    \"font.size\": 20,\"font.sans-serif\": [\"Helvetica\"], \"axes.edgecolor\": \"black\", \"axes.linewidth\": 1.00})\n",
    "\n",
    "with open('sx_avg_ws_datafiles.txt') as df:\n",
    "    lines = df.readlines()\n",
    "    xx = len(lines)\n",
    "    for xxi in range(xx):\n",
    "        filename = lines[xxi][:-1]\n",
    "        print(filename)\n",
    "        \n",
    "        with h5py.File(filename, \"r\") as f:\n",
    "            data = f['datasx'][()]\n",
    "            hs = f['hhs'][()]\n",
    "            N = f.attrs['N']\n",
    "            w = f.attrs['w']\n",
    "            \n",
    "            plt.plot(4*hs/w, data, label = fr\"N-{N}\")\n",
    "            \n",
    "    for xx in range(5):\n",
    "        plt.axvline(x=jn_zeros(0,5)[xx], linestyle ='--', color = 'black', alpha = 0.5)\n",
    "        \n",
    "    plt.ylabel(r\"$\\overline{\\langle S^x \\rangle}$\")\n",
    "    plt.xlabel(r\"$4h/\\omega$\")\n",
    "    plt.tick_params(which='both', axis=\"x\", direction=\"in\")\n",
    "    plt.tick_params(which='both', axis=\"y\", direction=\"in\")\n",
    "    plt.legend(frameon = False, fontsize = 14)\n",
    "    #plt.savefig('sx_multN.jpeg',dpi = 600)\n",
    "    #plt.savefig('sx_multN.svg',dpi = 600)\n",
    "    plt.ylim(.99,1.002)\n",
    "    plt.axhline(y=1.0, linestyle = '--', color = 'black', alpha = 0.5)\n",
    "    plt.show()"
   ]
  },
  {
   "cell_type": "code",
   "execution_count": null,
   "id": "3f3471f8",
   "metadata": {},
   "outputs": [],
   "source": []
  }
 ],
 "metadata": {
  "kernelspec": {
   "display_name": "Python 3 (ipykernel)",
   "language": "python",
   "name": "python3"
  },
  "language_info": {
   "codemirror_mode": {
    "name": "ipython",
    "version": 3
   },
   "file_extension": ".py",
   "mimetype": "text/x-python",
   "name": "python",
   "nbconvert_exporter": "python",
   "pygments_lexer": "ipython3",
   "version": "3.8.10"
  }
 },
 "nbformat": 4,
 "nbformat_minor": 5
}
