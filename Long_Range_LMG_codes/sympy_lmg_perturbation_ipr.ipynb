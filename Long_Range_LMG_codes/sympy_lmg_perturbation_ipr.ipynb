{
 "cells": [
  {
   "cell_type": "markdown",
   "metadata": {},
   "source": [
    "RWA Hamiltonian:\n",
    "================\n",
    "\n",
    "\\begin{align*}\n",
    "H^{RWA} &= H_0 -\\frac{2J_0(\\eta)}{N} V\\\\\n",
    "H_0 &\\approx \\bigg\\{1-J_0(\\eta)\\bigg\\}\\left(\\frac{N}{2}+1\\right) + \\frac{2}{N}\\left(S^x\\right)^2\\sim  \\frac{2}{N} \\left(S^x\\right)^2\\\\\n",
    "V &= \\bigg\\{2\\left(S^z\\right)^2 + \\left(S^x\\right)^2\\bigg\\}\n",
    "\\end{align*}\n",
    "where $\\eta = \\frac{4h}{\\omega}$, and the quantization direction is $x$, *not* z. If eigenstates of $S^x$ are $\\vert s \\rangle$, where $s\\in\\left[-N/2, N/2\\right]$, then, the perturbed eigenstates of $H^{RWA}$ are\n",
    "\\begin{align*}\n",
    "|\\phi_s\\rangle &= \\vert s \\rangle -\\frac{2J_0(\\eta)}{N}\\sum_{s^\\prime\\neq s}\\frac{V_{ss^\\prime}}{s-s^\\prime}\\vert s^\\prime\\rangle\\\\\n",
    "V_{ss^\\prime} &= \\bigg\\{2\\left\\langle s\\left\\vert\\left(S^z\\right)^2\\right\\vert s^\\prime\\right\\rangle + \\left\\langle s\\left\\vert\\left(S^x\\right)^2\\right\\vert s^\\prime\\right\\rangle\\bigg\\}\n",
    "\\end{align*}\n",
    "\n",
    "We change the index from $s$ to $n = s + N/2$, which is an integer in the range $[0,N]$. Then\n",
    "\\begin{align*}\n",
    "|\\phi_n\\rangle &= \\vert n \\rangle -\\frac{2J_0(\\eta)}{N}\\sum_{m\\neq n}\\frac{V_{nm}}{n-m}\\vert m\\rangle\\\\\n",
    "V_{nm} &= \\bigg\\{2\\left\\langle n\\left\\vert\\left(S^z\\right)^2\\right\\vert m\\right\\rangle + \\left\\langle n\\left\\vert\\left(S^x\\right)^2\\right\\vert m\\right\\rangle\\bigg\\}\n",
    "\\end{align*}"
   ]
  },
  {
   "cell_type": "code",
   "execution_count": 9,
   "metadata": {
    "execution": {
     "iopub.execute_input": "2022-05-24T05:18:47.918039Z",
     "iopub.status.busy": "2022-05-24T05:18:47.917697Z",
     "iopub.status.idle": "2022-05-24T05:18:47.957402Z",
     "shell.execute_reply": "2022-05-24T05:18:47.956698Z",
     "shell.execute_reply.started": "2022-05-24T05:18:47.918007Z"
    },
    "tags": []
   },
   "outputs": [
    {
     "data": {
      "text/latex": [
       "$\\displaystyle \\left(\\frac{\\hbar^{2} N^{2} \\delta_{m n}}{- m + n} + \\frac{\\hbar^{2} N \\delta_{m n}}{- m + n} - \\frac{\\hbar^{2} \\sqrt{N^{2} + N - m^{2} - m} \\sqrt{N^{2} + N - m^{2} - 3 m - 2} \\delta_{n, m + 2}}{- 2 m + 2 n} - \\frac{\\hbar^{2} \\sqrt{N^{2} + N - m^{2} + m} \\sqrt{N^{2} + N - m^{2} + 3 m - 2} \\delta_{n, m - 2}}{- 2 m + 2 n}\\right) {\\left|N,m\\right\\rangle }$"
      ],
      "text/plain": [
       "(hbar**2*N**2*KroneckerDelta(m, n)/(-m + n) + hbar**2*N*KroneckerDelta(m, n)/(-m + n) - hbar**2*sqrt(N**2 + N - m**2 - m)*sqrt(N**2 + N - m**2 - 3*m - 2)*KroneckerDelta(n, m + 2)/(-2*m + 2*n) - hbar**2*sqrt(N**2 + N - m**2 + m)*sqrt(N**2 + N - m**2 + 3*m - 2)*KroneckerDelta(n, m - 2)/(-2*m + 2*n))*|N,m>"
      ]
     },
     "execution_count": 9,
     "metadata": {},
     "output_type": "execute_result"
    }
   ],
   "source": [
    "import sympy\n",
    "from sympy.physics.quantum.spin import JzKet as n_ket\n",
    "from sympy.physics.quantum.spin import JzBra as n_bra\n",
    "\n",
    "\n",
    "from sympy.physics.quantum.spin import Jz as Sx\n",
    "from sympy.physics.quantum.spin import Jx as Sy\n",
    "from sympy.physics.quantum.spin import Jy as Sz\n",
    "\n",
    "\n",
    "from sympy.physics.quantum.qapply import qapply\n",
    "from sympy.physics.quantum.innerproduct import InnerProduct as ip\n",
    "\n",
    "from sympy.physics.quantum.spin import J2 as S2\n",
    "\n",
    "N = sympy.Symbol('N', integer=True)\n",
    "n = sympy.Symbol('n', integer=True)\n",
    "m = sympy.Symbol('m', integer=True)\n",
    "\n",
    "\n",
    "\n",
    "qapply((1/(n-m)) * (2 * n_bra(N,n) * Sz * Sz * n_ket(N,m) + n_bra(N,n) * Sx * Sx * n_ket(N,m))) * n_ket(N,m)"
   ]
  },
  {
   "cell_type": "code",
   "execution_count": null,
   "metadata": {},
   "outputs": [],
   "source": []
  },
  {
   "cell_type": "markdown",
   "metadata": {},
   "source": [
    "The Inverse Participation Ratio is defined as\n",
    "\\begin{equation}\n",
    "\\psi = \\sum_p \\frac{1}{\\left\\vert \\langle p \\vert \\phi_p \\rangle \\right\\vert^4}\n",
    "\\end{equation}"
   ]
  },
  {
   "cell_type": "code",
   "execution_count": 1,
   "metadata": {
    "scrolled": true,
    "tags": []
   },
   "outputs": [
    {
     "data": {
      "text/latex": [
       "$\\displaystyle \\begin{cases} \\frac{- \\lambda \\left(\\hbar^{2} \\sqrt{- n^{2} - n + N^{2} + N} \\sqrt{- n^{2} - 3 n + N^{2} + N - 2} {\\left|N,n + 2\\right\\rangle } - \\hbar^{2} \\sqrt{- n^{2} + n + N^{2} + N} \\sqrt{- n^{2} + 3 n + N^{2} + N - 2} {\\left|N,n - 2\\right\\rangle }\\right) + 4 {\\left|N,n\\right\\rangle }}{4} & \\text{for}\\: n \\geq 2 \\wedge n \\leq N \\wedge n - N \\leq -2 \\wedge n - N \\leq 2 \\\\\\frac{- \\hbar^{2} \\lambda \\sqrt{- n^{2} - n + N^{2} + N} \\sqrt{- n^{2} - 3 n + N^{2} + N - 2} {\\left|N,n + 2\\right\\rangle } + 4 {\\left|N,n\\right\\rangle }}{4} & \\text{for}\\: n \\leq N \\wedge n - N \\leq -2 \\\\\\frac{\\hbar^{2} \\lambda \\sqrt{- n^{2} + n + N^{2} + N} \\sqrt{- n^{2} + 3 n + N^{2} + N - 2} {\\left|N,n - 2\\right\\rangle } + 4 {\\left|N,n\\right\\rangle }}{4} & \\text{for}\\: n \\geq 2 \\wedge n \\leq N \\wedge n - N \\leq 2 \\\\{\\left|N,n\\right\\rangle } & \\text{for}\\: n \\leq N \\\\\\frac{- \\hbar^{2} \\lambda \\left(\\sqrt{- n^{2} - n + N^{2} + N} \\sqrt{- n^{2} - 3 n + N^{2} + N - 2} {\\left|N,n + 2\\right\\rangle } - \\sqrt{- n^{2} + n + N^{2} + N} \\sqrt{- n^{2} + 3 n + N^{2} + N - 2} {\\left|N,n - 2\\right\\rangle }\\right) + 4 {\\left|N,n\\right\\rangle }}{4} & \\text{for}\\: n \\geq 2 \\wedge n - N \\leq -2 \\wedge n - N \\leq 2 \\\\- \\frac{\\hbar^{2} \\lambda \\sqrt{- n^{2} - n + N^{2} + N} \\sqrt{- n^{2} - 3 n + N^{2} + N - 2} {\\left|N,n + 2\\right\\rangle }}{4} + {\\left|N,n\\right\\rangle } & \\text{for}\\: n - N \\leq -2 \\\\\\frac{\\hbar^{2} \\lambda \\sqrt{- n^{2} + n + N^{2} + N} \\sqrt{- n^{2} + 3 n + N^{2} + N - 2} {\\left|N,n - 2\\right\\rangle }}{4} + {\\left|N,n\\right\\rangle } & \\text{for}\\: n \\geq 2 \\wedge n - N \\leq 2 \\\\{\\left|N,n\\right\\rangle } & \\text{otherwise} \\end{cases}$"
      ],
      "text/plain": [
       "Piecewise(((-\\lambda*(hbar**2*sqrt(-_n**2 - _n + N**2 + N)*sqrt(-_n**2 - 3*_n + N**2 + N - 2)*|N,_n + 2> - hbar**2*sqrt(-_n**2 + _n + N**2 + N)*sqrt(-_n**2 + 3*_n + N**2 + N - 2)*|N,_n - 2>) + 4*|N,_n>)/4, (_n >= 2) & (_n <= N) & (_n - N <= -2) & (_n - N <= 2)), ((-hbar**2*\\lambda*sqrt(-_n**2 - _n + N**2 + N)*sqrt(-_n**2 - 3*_n + N**2 + N - 2)*|N,_n + 2> + 4*|N,_n>)/4, (_n <= N) & (_n - N <= -2)), ((hbar**2*\\lambda*sqrt(-_n**2 + _n + N**2 + N)*sqrt(-_n**2 + 3*_n + N**2 + N - 2)*|N,_n - 2> + 4*|N,_n>)/4, (_n >= 2) & (_n <= N) & (_n - N <= 2)), (|N,_n>, _n <= N), ((-hbar**2*\\lambda*(sqrt(-_n**2 - _n + N**2 + N)*sqrt(-_n**2 - 3*_n + N**2 + N - 2)*|N,_n + 2> - sqrt(-_n**2 + _n + N**2 + N)*sqrt(-_n**2 + 3*_n + N**2 + N - 2)*|N,_n - 2>) + 4*|N,_n>)/4, (_n >= 2) & (_n - N <= -2) & (_n - N <= 2)), (-hbar**2*\\lambda*sqrt(-_n**2 - _n + N**2 + N)*sqrt(-_n**2 - 3*_n + N**2 + N - 2)*|N,_n + 2>/4 + |N,_n>, _n - N <= -2), (hbar**2*\\lambda*sqrt(-_n**2 + _n + N**2 + N)*sqrt(-_n**2 + 3*_n + N**2 + N - 2)*|N,_n - 2>/4 + |N,_n>, (_n >= 2) & (_n - N <= 2)), (|N,_n>, True))"
      ]
     },
     "execution_count": 1,
     "metadata": {},
     "output_type": "execute_result"
    }
   ],
   "source": [
    "import sympy\n",
    "\n",
    "from sympy import KroneckerDelta as kdel\n",
    "\n",
    "from sympy import zoo\n",
    "\n",
    "from sympy.physics.quantum.spin import JzKet as n_ket\n",
    "from sympy.physics.quantum.spin import JzBra as n_bra\n",
    "from sympy.physics.quantum.dagger import Dagger\n",
    "\n",
    "from sympy.physics.quantum.spin import Jz as Sx\n",
    "from sympy.physics.quantum.spin import Jx as Sy\n",
    "from sympy.physics.quantum.spin import Jy as Sz\n",
    "\n",
    "\n",
    "from sympy.physics.quantum.qapply import qapply\n",
    "from sympy.physics.quantum.innerproduct import InnerProduct as ip\n",
    "\n",
    "from sympy.physics.quantum.spin import J2 as S2\n",
    "\n",
    "N = sympy.Symbol('N', integer=True, positive=True)\n",
    "n = sympy.Dummy('n', integer=True, nonnegative=True)\n",
    "m = sympy.Dummy('m', integer=True, nonnegative=True)\n",
    "\n",
    "p = sympy.Dummy('p', integer=True, nonnegative=True)\n",
    "\n",
    "lamb = sympy.Symbol('\\lambda', real=True)\n",
    "\n",
    "\n",
    "def psiprod(m,n):\n",
    "    return qapply(lamb * qapply((1/(n-m)) * (2 * n_bra(N,n)\\\n",
    "                                                  * Sz * Sz * n_ket(N,m) + n_bra(N,n) *\\\n",
    "                                                            Sx * Sx * n_ket(N,m))) * n_ket(N,m))\n",
    "\n",
    "phi_n = n_ket(N,n) -  sympy.Sum(psiprod(m,n),(m,0,N)).doit() \n",
    "\n",
    "\n",
    "sympy.simplify(phi_n).subs(zoo,0)\n",
    "#inner_prod = phi_n.subs(n_ket(N,n),kdel(p,n))\n",
    "#inner_prod = inner_prod.subs(n_ket(N,n-2),kdel(p,n-2))\n",
    "#inner_prod = inner_prod.subs(n_ket(N,n+2),kdel(p,n+2))\n",
    "#inner_prod = inner_prod.subs(n<=N, True)\n",
    "\n",
    "#inner_prod\n",
    "#p_psi_n = qapply(n_bra(N,p) * psi_n)\n",
    "#psi_n_p = qapply(Dagger(psi_n) * n_ket(N,p))\n",
    "\n",
    "#ipr= 1/(qapply(p_psi_n * psi_n_p))**2\n",
    "#ipr"
   ]
  },
  {
   "cell_type": "code",
   "execution_count": null,
   "metadata": {},
   "outputs": [],
   "source": []
  },
  {
   "cell_type": "code",
   "execution_count": 2,
   "metadata": {},
   "outputs": [
    {
     "data": {
      "text/latex": [
       "$\\displaystyle \\frac{1}{\\frac{\\hbar^{8} \\lambda^{4} \\left(- n^{2} - n + N^{2} + N\\right)^{2} \\left(- n^{2} - 3 n + N^{2} + N - 2\\right)^{2}}{256} + \\frac{\\hbar^{8} \\lambda^{4} \\left(- n^{2} + n + N^{2} + N\\right)^{2} \\left(- n^{2} + 3 n + N^{2} + N - 2\\right)^{2}}{256} + 1}$"
      ],
      "text/plain": [
       "1/(hbar**8*\\lambda**4*(-_n**2 - _n + N**2 + N)**2*(-_n**2 - 3*_n + N**2 + N - 2)**2/256 + hbar**8*\\lambda**4*(-_n**2 + _n + N**2 + N)**2*(-_n**2 + 3*_n + N**2 + N - 2)**2/256 + 1)"
      ]
     },
     "execution_count": 2,
     "metadata": {},
     "output_type": "execute_result"
    }
   ],
   "source": [
    "from sympy.physics.quantum.constants import hbar\n",
    "\n",
    "\n",
    "first = (- lamb * hbar**2 * (sympy.sqrt(-n**2 - n +N**2 + N) \\\n",
    "                            * sympy.sqrt(-n**2 - 3*n+ N**2 + N - 2))/4 )**4\n",
    "\n",
    "second = (- lamb * hbar**2 * (sympy.sqrt(-n**2 + n + N**2 + N) \\\n",
    "                            * sympy.sqrt(-n**2 + 3*n+ N**2 + N - 2))/4 )**4\n",
    "\n",
    "third = 1\n",
    "\n",
    "ipr = 1/ (first + second + third)\n",
    "ipr"
   ]
  },
  {
   "cell_type": "code",
   "execution_count": 42,
   "metadata": {},
   "outputs": [
    {
     "data": {
      "image/png": "[encoded data removed]",
      "text/plain": [
       "<Figure size 864x360 with 1 Axes>"
      ]
     },
     "metadata": {},
     "output_type": "display_data"
    }
   ],
   "source": [
    "lamb = 1.0\n",
    "hb = 1.0\n",
    "\n",
    "N = 100000\n",
    "n = np.arange(100000)\n",
    "\n",
    "fterm = hb**8 * lamb **4 * (-n**2 -n + N**2 + N)**2 * (-n**2 - 3*n + N**2 + N -2)**2\n",
    "sterm = hb**8 * lamb **4 * (-n**2 +n + N**2 + N)**2 * (-n**2 + 3*n + N**2 + N -2)**2\n",
    "thrdterm = 1\n",
    "\n",
    "ipr = 1/(fterm + sterm + thrdterm)\n",
    "\n",
    "plt.figure(figsize=(12,5))\n",
    "\n",
    "plt.plot(n, ipr)\n",
    "plt.xlabel(\"x\")\n",
    "plt.ylabel(\"ipr\")\n",
    "plt.yscale(\"log\")\n",
    "plt.xscale(\"log\")\n",
    "plt.show()"
   ]
  },
  {
   "cell_type": "markdown",
   "metadata": {},
   "source": [
    "## Introduce $J_0$ and KacNorm in perturbation term \n",
    "\n",
    "\n",
    "## RWA Hamiltonian:\n",
    "================\n",
    "\n",
    "\\begin{align*}\n",
    "H^{RWA} &= H_0 -\\frac{2J_0(\\eta)}{N} V\\\\\n",
    "H_0 &\\approx \\bigg\\{1-J_0(\\eta)\\bigg\\}\\left(\\frac{N}{2}+1\\right) + \\frac{2}{N}\\left(S^x\\right)^2\\sim  \\frac{2}{N} \\left(S^x\\right)^2\\\\\n",
    "V &= \\bigg\\{2\\left(S^z\\right)^2 + \\left(S^x\\right)^2\\bigg\\}\n",
    "\\end{align*}\n",
    "where $\\eta = \\frac{4h}{\\omega}$, and the quantization direction is $x$, *not* z. If eigenstates of $S^x$ are $\\vert s \\rangle$, where $s\\in\\left[-N/2, N/2\\right]$, then, the perturbed eigenstates of $H^{RWA}$ are\n",
    "\\begin{align*}\n",
    "|\\phi_s\\rangle &= \\vert s \\rangle -\\frac{2J_0(\\eta)}{N}\\sum_{s^\\prime\\neq s}\\frac{V_{ss^\\prime}}{s-s^\\prime}\\vert s^\\prime\\rangle\\\\\n",
    "V_{ss^\\prime} &= \\bigg\\{2\\left\\langle s\\left\\vert\\left(S^z\\right)^2\\right\\vert s^\\prime\\right\\rangle + \\left\\langle s\\left\\vert\\left(S^x\\right)^2\\right\\vert s^\\prime\\right\\rangle\\bigg\\}\n",
    "\\end{align*}\n",
    "\n",
    "We change the index from $s$ to $n = s + N/2$, which is an integer in the range $[0,N]$. Then\n",
    "\\begin{align*}\n",
    "|\\phi_n\\rangle &= \\vert n \\rangle -\\frac{2J_0(\\eta)}{N}\\sum_{m\\neq n}\\frac{V_{nm}}{n-m}\\vert m\\rangle\\\\\n",
    "V_{nm} &= \\bigg\\{2\\left\\langle n\\left\\vert\\left(S^z\\right)^2\\right\\vert m\\right\\rangle + \\left\\langle n\\left\\vert\\left(S^x\\right)^2\\right\\vert m\\right\\rangle\\bigg\\}\n",
    "\\end{align*}"
   ]
  },
  {
   "cell_type": "code",
   "execution_count": 9,
   "metadata": {},
   "outputs": [
    {
     "data": {
      "text/latex": [
       "$\\displaystyle \\begin{cases} - \\frac{J_{0}(\\eta) \\lambda \\left(\\hbar^{2} \\sqrt{- n^{2} - n + N^{2} + N} \\sqrt{- n^{2} - 3 n + N^{2} + N - 2} {\\left|N,n + 2\\right\\rangle } - \\hbar^{2} \\sqrt{- n^{2} + n + N^{2} + N} \\sqrt{- n^{2} + 3 n + N^{2} + N - 2} {\\left|N,n - 2\\right\\rangle }\\right) - 2 N {\\left|N,n\\right\\rangle }}{2 N} & \\text{for}\\: n \\geq 2 \\wedge n \\leq N \\wedge n - N \\leq -2 \\\\- \\frac{\\hbar^{2} J_{0}(\\eta) \\lambda \\sqrt{- n^{2} - n + N^{2} + N} \\sqrt{- n^{2} - 3 n + N^{2} + N - 2} {\\left|N,n + 2\\right\\rangle }}{2 N} + {\\left|N,n\\right\\rangle } & \\text{for}\\: n \\leq N \\wedge n - N \\leq -2 \\\\\\frac{\\hbar^{2} J_{0}(\\eta) \\lambda \\sqrt{- n^{2} + n + N^{2} + N} \\sqrt{- n^{2} + 3 n + N^{2} + N - 2} {\\left|N,n - 2\\right\\rangle } + 2 N {\\left|N,n\\right\\rangle }}{2 N} & \\text{for}\\: n \\geq 2 \\wedge n \\leq N \\wedge n - N \\leq 2 \\\\{\\left|N,n\\right\\rangle } & \\text{for}\\: n \\leq N \\\\- \\frac{\\hbar^{2} J_{0}(\\eta) \\lambda \\left(\\sqrt{- n^{2} - n + N^{2} + N} \\sqrt{- n^{2} - 3 n + N^{2} + N - 2} {\\left|N,n + 2\\right\\rangle } - \\sqrt{- n^{2} + n + N^{2} + N} \\sqrt{- n^{2} + 3 n + N^{2} + N - 2} {\\left|N,n - 2\\right\\rangle }\\right) - 2 N {\\left|N,n\\right\\rangle }}{2 N} & \\text{for}\\: n \\geq 2 \\wedge n - N \\leq -2 \\\\- \\frac{\\hbar^{2} J_{0}(\\eta) \\lambda \\sqrt{- n^{2} - n + N^{2} + N} \\sqrt{- n^{2} - 3 n + N^{2} + N - 2} {\\left|N,n + 2\\right\\rangle }}{2 N} + {\\left|N,n\\right\\rangle } & \\text{for}\\: n - N \\leq -2 \\\\\\frac{\\hbar^{2} J_{0}(\\eta) \\lambda \\sqrt{- n^{2} + n + N^{2} + N} \\sqrt{- n^{2} + 3 n + N^{2} + N - 2} {\\left|N,n - 2\\right\\rangle }}{2 N} + {\\left|N,n\\right\\rangle } & \\text{for}\\: n \\geq 2 \\wedge n - N \\leq 2 \\\\{\\left|N,n\\right\\rangle } & \\text{otherwise} \\end{cases}$"
      ],
      "text/plain": [
       "Piecewise((-(J_{0}(\\eta)*\\lambda*(hbar**2*sqrt(-_n**2 - _n + N**2 + N)*sqrt(-_n**2 - 3*_n + N**2 + N - 2)*|N,_n + 2> - hbar**2*sqrt(-_n**2 + _n + N**2 + N)*sqrt(-_n**2 + 3*_n + N**2 + N - 2)*|N,_n - 2>) - 2*N*|N,_n>)/(2*N), (_n >= 2) & (_n <= N) & (_n - N <= -2)), (-hbar**2*J_{0}(\\eta)*\\lambda*sqrt(-_n**2 - _n + N**2 + N)*sqrt(-_n**2 - 3*_n + N**2 + N - 2)*|N,_n + 2>/(2*N) + |N,_n>, (_n <= N) & (_n - N <= -2)), ((hbar**2*J_{0}(\\eta)*\\lambda*sqrt(-_n**2 + _n + N**2 + N)*sqrt(-_n**2 + 3*_n + N**2 + N - 2)*|N,_n - 2> + 2*N*|N,_n>)/(2*N), (_n >= 2) & (_n <= N) & (_n - N <= 2)), (|N,_n>, _n <= N), (-(hbar**2*J_{0}(\\eta)*\\lambda*(sqrt(-_n**2 - _n + N**2 + N)*sqrt(-_n**2 - 3*_n + N**2 + N - 2)*|N,_n + 2> - sqrt(-_n**2 + _n + N**2 + N)*sqrt(-_n**2 + 3*_n + N**2 + N - 2)*|N,_n - 2>) - 2*N*|N,_n>)/(2*N), (_n >= 2) & (_n - N <= -2)), (-hbar**2*J_{0}(\\eta)*\\lambda*sqrt(-_n**2 - _n + N**2 + N)*sqrt(-_n**2 - 3*_n + N**2 + N - 2)*|N,_n + 2>/(2*N) + |N,_n>, _n - N <= -2), (hbar**2*J_{0}(\\eta)*\\lambda*sqrt(-_n**2 + _n + N**2 + N)*sqrt(-_n**2 + 3*_n + N**2 + N - 2)*|N,_n - 2>/(2*N) + |N,_n>, (_n >= 2) & (_n - N <= 2)), (|N,_n>, True))"
      ]
     },
     "execution_count": 9,
     "metadata": {},
     "output_type": "execute_result"
    }
   ],
   "source": [
    "import sympy\n",
    "\n",
    "from sympy import KroneckerDelta as kdel\n",
    "\n",
    "from sympy import zoo\n",
    "\n",
    "from sympy.physics.quantum.spin import JzKet as n_ket\n",
    "from sympy.physics.quantum.spin import JzBra as n_bra\n",
    "from sympy.physics.quantum.dagger import Dagger\n",
    "\n",
    "from sympy.physics.quantum.spin import Jz as Sx\n",
    "from sympy.physics.quantum.spin import Jx as Sy\n",
    "from sympy.physics.quantum.spin import Jy as Sz\n",
    "\n",
    "\n",
    "from sympy.physics.quantum.qapply import qapply\n",
    "from sympy.physics.quantum.innerproduct import InnerProduct as ip\n",
    "\n",
    "from sympy.physics.quantum.spin import J2 as S2\n",
    "\n",
    "N = sympy.Symbol('N', integer=True, positive=True)\n",
    "n = sympy.Dummy('n', integer=True, nonnegative=True)\n",
    "m = sympy.Dummy('m', integer=True, nonnegative=True)\n",
    "\n",
    "p = sympy.Dummy('p', integer=True, nonnegative=True)\n",
    "\n",
    "lamb = sympy.Symbol('\\lambda', real=True)\n",
    "j0 = sympy.Symbol('J_{0}(\\eta)', real=True)\n",
    "\n",
    "\n",
    "def psiprod(m,n):\n",
    "    return qapply(lamb * qapply((1/(n-m)) * (2 * n_bra(N,n)\\\n",
    "                                                  * Sz * Sz * n_ket(N,m) + n_bra(N,n) *\\\n",
    "                                                            Sx * Sx * n_ket(N,m))) * n_ket(N,m))\n",
    "\n",
    "phi_n = n_ket(N,n) -  (2 * j0/N)*sympy.Sum(psiprod(m,n),(m,0,N)).doit() \n",
    "\n",
    "\n",
    "sympy.simplify(phi_n).subs(zoo,0)\n",
    "#inner_prod = phi_n.subs(n_ket(N,n),kdel(p,n))\n",
    "#inner_prod = inner_prod.subs(n_ket(N,n-2),kdel(p,n-2))\n",
    "#inner_prod = inner_prod.subs(n_ket(N,n+2),kdel(p,n+2))\n",
    "#inner_prod = inner_prod.subs(n<=N, True)\n",
    "\n",
    "#inner_prod\n",
    "#p_psi_n = qapply(n_bra(N,p) * psi_n)\n",
    "#psi_n_p = qapply(Dagger(psi_n) * n_ket(N,p))\n",
    "\n",
    "#ipr= 1/(qapply(p_psi_n * psi_n_p))**2\n",
    "#ipr"
   ]
  },
  {
   "cell_type": "code",
   "execution_count": 10,
   "metadata": {},
   "outputs": [
    {
     "data": {
      "text/latex": [
       "$\\displaystyle \\frac{1}{\\frac{\\hbar^{8} J_{0}(\\eta)^{4} \\lambda^{4} \\left(- n^{2} - n + N^{2} + N\\right)^{2} \\left(- n^{2} - 3 n + N^{2} + N - 2\\right)^{2}}{16 N^{4}} + \\frac{\\hbar^{8} J_{0}(\\eta)^{4} \\lambda^{4} \\left(- n^{2} + n + N^{2} + N\\right)^{2} \\left(- n^{2} + 3 n + N^{2} + N - 2\\right)^{2}}{16 N^{4}} + 1}$"
      ],
      "text/plain": [
       "1/(hbar**8*J_{0}(\\eta)**4*\\lambda**4*(-_n**2 - _n + N**2 + N)**2*(-_n**2 - 3*_n + N**2 + N - 2)**2/(16*N**4) + hbar**8*J_{0}(\\eta)**4*\\lambda**4*(-_n**2 + _n + N**2 + N)**2*(-_n**2 + 3*_n + N**2 + N - 2)**2/(16*N**4) + 1)"
      ]
     },
     "execution_count": 10,
     "metadata": {},
     "output_type": "execute_result"
    }
   ],
   "source": [
    "from sympy.physics.quantum.constants import hbar\n",
    "\n",
    "\n",
    "first = ((-j0 * lamb * (hbar**2 * (sympy.sqrt(-n**2 - n +N**2 + N) \\\n",
    "                            * sympy.sqrt(-n**2 - 3*n+ N**2 + N - 2))))/(2*N))**4\n",
    "\n",
    "second = ((j0 * lamb * hbar**2 * (sympy.sqrt(-n**2 + n + N**2 + N) \\\n",
    "                            * sympy.sqrt(-n**2 + 3*n+ N**2 + N - 2)))/(2*N))**4\n",
    "\n",
    "third = 1\n",
    "\n",
    "ipr = 1/ (first + second + third)\n",
    "ipr"
   ]
  },
  {
   "cell_type": "markdown",
   "metadata": {},
   "source": [
    "We approxmimate the IPR equation for when n= N\n",
    "\n",
    "\\begin{equation}\n",
    "IPR = \\frac{16N^4}{0 + j0^4 \\lambda ^4 (2N-1)^2 +16N^4}\n",
    "\\end{equation}"
   ]
  },
  {
   "cell_type": "markdown",
   "metadata": {},
   "source": [
    "\\begin{equation}\n",
    "IPR = \\frac{4N^2}{j0^4 \\lambda ^4 + 4N^2}\n",
    "\\end{equation}"
   ]
  },
  {
   "cell_type": "code",
   "execution_count": 3,
   "metadata": {},
   "outputs": [
    {
     "data": {
      "image/png": "[encoded data removed]",
      "text/plain": [
       "<Figure size 720x432 with 1 Axes>"
      ]
     },
     "metadata": {
      "needs_background": "light"
     },
     "output_type": "display_data"
    }
   ],
   "source": [
    "import numpy as np\n",
    "import matplotlib.pyplot as plt\n",
    "\n",
    "lamb = 1.0\n",
    "hb = 1.0     #hbar\n",
    "j0 = 0.3\n",
    "\n",
    "N = 10000\n",
    "n = np.arange(2,N-1)\n",
    "\n",
    "fterm = hb**8 * j0 **4 * lamb **4 * (-n**2 -n + N**2 + N)**2 * (-n**2 - 3*n + N**2 + N -2)**2/(16*N**4)\n",
    "sterm = hb**8 * j0 **4 * lamb **4 * (-n**2 +n + N**2 + N)**2 * (-n**2 + 3*n + N**2 + N -2)**2/(16*N**4)\n",
    "thrdterm = 1\n",
    "\n",
    "ipr = 1/(fterm + sterm + thrdterm)\n",
    "\n",
    "\n",
    "\n",
    "#fterm = 0\n",
    "#secondterm =  j0 **4 * lamb **4 *16 *n**2 * (2*n-1)**2/(16*n**4)\n",
    "#thrdterm = 1\n",
    "\n",
    "fterm = 0\n",
    "secondterm =  4 * n**2/ (j0 **4 * lamb **4 + 4 * n**2)\n",
    "thrdterm = 1\n",
    "\n",
    "plt.figure(figsize=(10,6))\n",
    "\n",
    "plt.plot(n, ipr,label='IPR n')\n",
    "plt.plot(n, 1/(fterm + sterm + thrdterm), label = 'IPR N')\n",
    "\n",
    "plt.xlabel(\"N\")\n",
    "plt.ylabel(\"IPR\")\n",
    "plt.yscale(\"log\")\n",
    "plt.legend()\n",
    "plt.grid()\n",
    "plt.show()"
   ]
  },
  {
   "cell_type": "markdown",
   "metadata": {},
   "source": [
    "The conditions for different IPR segments and respective cumulative values-\n",
    "\n",
    "\\begin{align*}\n",
    "IPR_{1} &= -\\frac{{\\lambda \\hslash}^2 J_0\\big(\\eta\\big) \\sqrt{-n^2-n+N^2+N}\\sqrt{-n^2-3n+N^2+N-2}}{2N}+ \\vert N,n\\rangle & {when \\hskip 1cm}  N-2\\leq n \\leq N \\\\\n",
    "IPR_{2} &= \\frac{{\\lambda \\hslash}^2 J_0\\big(\\eta\\big) \\sqrt{-n^2+n+N^2+N}\\sqrt{-n^2+3n+N^2+N-2}}{2N} + \\vert N,n\\rangle & {when \\hskip 1cm}  0\\leq n \\leq N -2\\\\\n",
    "\\end{align*}"
   ]
  },
  {
   "cell_type": "code",
   "execution_count": 4,
   "metadata": {},
   "outputs": [
    {
     "name": "stderr",
     "output_type": "stream",
     "text": [
      "/tmp/ipykernel_2853/495852575.py:11: RuntimeWarning: invalid value encountered in sqrt\n",
      "  case1 = (-hb**2 * j0 * lamb * np.sqrt(-n**2 -n + N**2 + N) *  np.sqrt(-n**2 - 3*n + N**2 + N -2) + 1)**4\n"
     ]
    },
    {
     "ename": "ValueError",
     "evalue": "x and y must have same first dimension, but have shapes (3,) and (9997,)",
     "output_type": "error",
     "traceback": [
      "\u001b[0;31m---------------------------------------------------------------------------\u001b[0m",
      "\u001b[0;31mValueError\u001b[0m                                Traceback (most recent call last)",
      "Input \u001b[0;32mIn [4]\u001b[0m, in \u001b[0;36m<cell line: 29>\u001b[0;34m()\u001b[0m\n\u001b[1;32m     26\u001b[0m plt\u001b[38;5;241m.\u001b[39mfigure(figsize\u001b[38;5;241m=\u001b[39m(\u001b[38;5;241m10\u001b[39m,\u001b[38;5;241m6\u001b[39m))\n\u001b[1;32m     28\u001b[0m plt\u001b[38;5;241m.\u001b[39mplot(n, ipr,label\u001b[38;5;241m=\u001b[39m\u001b[38;5;124m'\u001b[39m\u001b[38;5;124mIPR n\u001b[39m\u001b[38;5;124m'\u001b[39m)\n\u001b[0;32m---> 29\u001b[0m \u001b[43mplt\u001b[49m\u001b[38;5;241;43m.\u001b[39;49m\u001b[43mplot\u001b[49m\u001b[43m(\u001b[49m\u001b[43mn\u001b[49m\u001b[43m,\u001b[49m\u001b[43m \u001b[49m\u001b[38;5;241;43m1\u001b[39;49m\u001b[38;5;241;43m/\u001b[39;49m\u001b[43m(\u001b[49m\u001b[43mfterm\u001b[49m\u001b[43m \u001b[49m\u001b[38;5;241;43m+\u001b[39;49m\u001b[43m \u001b[49m\u001b[43msterm\u001b[49m\u001b[43m \u001b[49m\u001b[38;5;241;43m+\u001b[39;49m\u001b[43m \u001b[49m\u001b[43mthrdterm\u001b[49m\u001b[43m)\u001b[49m\u001b[43m,\u001b[49m\u001b[43m \u001b[49m\u001b[43mlabel\u001b[49m\u001b[43m \u001b[49m\u001b[38;5;241;43m=\u001b[39;49m\u001b[43m \u001b[49m\u001b[38;5;124;43m'\u001b[39;49m\u001b[38;5;124;43mIPR N\u001b[39;49m\u001b[38;5;124;43m'\u001b[39;49m\u001b[43m)\u001b[49m\n\u001b[1;32m     31\u001b[0m plt\u001b[38;5;241m.\u001b[39mxlabel(\u001b[38;5;124m\"\u001b[39m\u001b[38;5;124mN\u001b[39m\u001b[38;5;124m\"\u001b[39m)\n\u001b[1;32m     32\u001b[0m plt\u001b[38;5;241m.\u001b[39mylabel(\u001b[38;5;124m\"\u001b[39m\u001b[38;5;124mIPR\u001b[39m\u001b[38;5;124m\"\u001b[39m)\n",
      "File \u001b[0;32m~/.local/lib/python3.10/site-packages/matplotlib/pyplot.py:2757\u001b[0m, in \u001b[0;36mplot\u001b[0;34m(scalex, scaley, data, *args, **kwargs)\u001b[0m\n\u001b[1;32m   2755\u001b[0m \u001b[38;5;129m@_copy_docstring_and_deprecators\u001b[39m(Axes\u001b[38;5;241m.\u001b[39mplot)\n\u001b[1;32m   2756\u001b[0m \u001b[38;5;28;01mdef\u001b[39;00m \u001b[38;5;21mplot\u001b[39m(\u001b[38;5;241m*\u001b[39margs, scalex\u001b[38;5;241m=\u001b[39m\u001b[38;5;28;01mTrue\u001b[39;00m, scaley\u001b[38;5;241m=\u001b[39m\u001b[38;5;28;01mTrue\u001b[39;00m, data\u001b[38;5;241m=\u001b[39m\u001b[38;5;28;01mNone\u001b[39;00m, \u001b[38;5;241m*\u001b[39m\u001b[38;5;241m*\u001b[39mkwargs):\n\u001b[0;32m-> 2757\u001b[0m     \u001b[38;5;28;01mreturn\u001b[39;00m \u001b[43mgca\u001b[49m\u001b[43m(\u001b[49m\u001b[43m)\u001b[49m\u001b[38;5;241;43m.\u001b[39;49m\u001b[43mplot\u001b[49m\u001b[43m(\u001b[49m\n\u001b[1;32m   2758\u001b[0m \u001b[43m        \u001b[49m\u001b[38;5;241;43m*\u001b[39;49m\u001b[43margs\u001b[49m\u001b[43m,\u001b[49m\u001b[43m \u001b[49m\u001b[43mscalex\u001b[49m\u001b[38;5;241;43m=\u001b[39;49m\u001b[43mscalex\u001b[49m\u001b[43m,\u001b[49m\u001b[43m \u001b[49m\u001b[43mscaley\u001b[49m\u001b[38;5;241;43m=\u001b[39;49m\u001b[43mscaley\u001b[49m\u001b[43m,\u001b[49m\n\u001b[1;32m   2759\u001b[0m \u001b[43m        \u001b[49m\u001b[38;5;241;43m*\u001b[39;49m\u001b[38;5;241;43m*\u001b[39;49m\u001b[43m(\u001b[49m\u001b[43m{\u001b[49m\u001b[38;5;124;43m\"\u001b[39;49m\u001b[38;5;124;43mdata\u001b[39;49m\u001b[38;5;124;43m\"\u001b[39;49m\u001b[43m:\u001b[49m\u001b[43m \u001b[49m\u001b[43mdata\u001b[49m\u001b[43m}\u001b[49m\u001b[43m \u001b[49m\u001b[38;5;28;43;01mif\u001b[39;49;00m\u001b[43m \u001b[49m\u001b[43mdata\u001b[49m\u001b[43m \u001b[49m\u001b[38;5;129;43;01mis\u001b[39;49;00m\u001b[43m \u001b[49m\u001b[38;5;129;43;01mnot\u001b[39;49;00m\u001b[43m \u001b[49m\u001b[38;5;28;43;01mNone\u001b[39;49;00m\u001b[43m \u001b[49m\u001b[38;5;28;43;01melse\u001b[39;49;00m\u001b[43m \u001b[49m\u001b[43m{\u001b[49m\u001b[43m}\u001b[49m\u001b[43m)\u001b[49m\u001b[43m,\u001b[49m\u001b[43m \u001b[49m\u001b[38;5;241;43m*\u001b[39;49m\u001b[38;5;241;43m*\u001b[39;49m\u001b[43mkwargs\u001b[49m\u001b[43m)\u001b[49m\n",
      "File \u001b[0;32m~/.local/lib/python3.10/site-packages/matplotlib/axes/_axes.py:1632\u001b[0m, in \u001b[0;36mAxes.plot\u001b[0;34m(self, scalex, scaley, data, *args, **kwargs)\u001b[0m\n\u001b[1;32m   1390\u001b[0m \u001b[38;5;124;03m\"\"\"\u001b[39;00m\n\u001b[1;32m   1391\u001b[0m \u001b[38;5;124;03mPlot y versus x as lines and/or markers.\u001b[39;00m\n\u001b[1;32m   1392\u001b[0m \n\u001b[0;32m   (...)\u001b[0m\n\u001b[1;32m   1629\u001b[0m \u001b[38;5;124;03m(``'green'``) or hex strings (``'#008000'``).\u001b[39;00m\n\u001b[1;32m   1630\u001b[0m \u001b[38;5;124;03m\"\"\"\u001b[39;00m\n\u001b[1;32m   1631\u001b[0m kwargs \u001b[38;5;241m=\u001b[39m cbook\u001b[38;5;241m.\u001b[39mnormalize_kwargs(kwargs, mlines\u001b[38;5;241m.\u001b[39mLine2D)\n\u001b[0;32m-> 1632\u001b[0m lines \u001b[38;5;241m=\u001b[39m [\u001b[38;5;241m*\u001b[39m\u001b[38;5;28mself\u001b[39m\u001b[38;5;241m.\u001b[39m_get_lines(\u001b[38;5;241m*\u001b[39margs, data\u001b[38;5;241m=\u001b[39mdata, \u001b[38;5;241m*\u001b[39m\u001b[38;5;241m*\u001b[39mkwargs)]\n\u001b[1;32m   1633\u001b[0m \u001b[38;5;28;01mfor\u001b[39;00m line \u001b[38;5;129;01min\u001b[39;00m lines:\n\u001b[1;32m   1634\u001b[0m     \u001b[38;5;28mself\u001b[39m\u001b[38;5;241m.\u001b[39madd_line(line)\n",
      "File \u001b[0;32m~/.local/lib/python3.10/site-packages/matplotlib/axes/_base.py:312\u001b[0m, in \u001b[0;36m_process_plot_var_args.__call__\u001b[0;34m(self, data, *args, **kwargs)\u001b[0m\n\u001b[1;32m    310\u001b[0m     this \u001b[38;5;241m+\u001b[39m\u001b[38;5;241m=\u001b[39m args[\u001b[38;5;241m0\u001b[39m],\n\u001b[1;32m    311\u001b[0m     args \u001b[38;5;241m=\u001b[39m args[\u001b[38;5;241m1\u001b[39m:]\n\u001b[0;32m--> 312\u001b[0m \u001b[38;5;28;01myield from\u001b[39;00m \u001b[38;5;28;43mself\u001b[39;49m\u001b[38;5;241;43m.\u001b[39;49m\u001b[43m_plot_args\u001b[49m\u001b[43m(\u001b[49m\u001b[43mthis\u001b[49m\u001b[43m,\u001b[49m\u001b[43m \u001b[49m\u001b[43mkwargs\u001b[49m\u001b[43m)\u001b[49m\n",
      "File \u001b[0;32m~/.local/lib/python3.10/site-packages/matplotlib/axes/_base.py:498\u001b[0m, in \u001b[0;36m_process_plot_var_args._plot_args\u001b[0;34m(self, tup, kwargs, return_kwargs)\u001b[0m\n\u001b[1;32m    495\u001b[0m     \u001b[38;5;28mself\u001b[39m\u001b[38;5;241m.\u001b[39maxes\u001b[38;5;241m.\u001b[39myaxis\u001b[38;5;241m.\u001b[39mupdate_units(y)\n\u001b[1;32m    497\u001b[0m \u001b[38;5;28;01mif\u001b[39;00m x\u001b[38;5;241m.\u001b[39mshape[\u001b[38;5;241m0\u001b[39m] \u001b[38;5;241m!=\u001b[39m y\u001b[38;5;241m.\u001b[39mshape[\u001b[38;5;241m0\u001b[39m]:\n\u001b[0;32m--> 498\u001b[0m     \u001b[38;5;28;01mraise\u001b[39;00m \u001b[38;5;167;01mValueError\u001b[39;00m(\u001b[38;5;124mf\u001b[39m\u001b[38;5;124m\"\u001b[39m\u001b[38;5;124mx and y must have same first dimension, but \u001b[39m\u001b[38;5;124m\"\u001b[39m\n\u001b[1;32m    499\u001b[0m                      \u001b[38;5;124mf\u001b[39m\u001b[38;5;124m\"\u001b[39m\u001b[38;5;124mhave shapes \u001b[39m\u001b[38;5;132;01m{\u001b[39;00mx\u001b[38;5;241m.\u001b[39mshape\u001b[38;5;132;01m}\u001b[39;00m\u001b[38;5;124m and \u001b[39m\u001b[38;5;132;01m{\u001b[39;00my\u001b[38;5;241m.\u001b[39mshape\u001b[38;5;132;01m}\u001b[39;00m\u001b[38;5;124m\"\u001b[39m)\n\u001b[1;32m    500\u001b[0m \u001b[38;5;28;01mif\u001b[39;00m x\u001b[38;5;241m.\u001b[39mndim \u001b[38;5;241m>\u001b[39m \u001b[38;5;241m2\u001b[39m \u001b[38;5;129;01mor\u001b[39;00m y\u001b[38;5;241m.\u001b[39mndim \u001b[38;5;241m>\u001b[39m \u001b[38;5;241m2\u001b[39m:\n\u001b[1;32m    501\u001b[0m     \u001b[38;5;28;01mraise\u001b[39;00m \u001b[38;5;167;01mValueError\u001b[39;00m(\u001b[38;5;124mf\u001b[39m\u001b[38;5;124m\"\u001b[39m\u001b[38;5;124mx and y can be no greater than 2D, but have \u001b[39m\u001b[38;5;124m\"\u001b[39m\n\u001b[1;32m    502\u001b[0m                      \u001b[38;5;124mf\u001b[39m\u001b[38;5;124m\"\u001b[39m\u001b[38;5;124mshapes \u001b[39m\u001b[38;5;132;01m{\u001b[39;00mx\u001b[38;5;241m.\u001b[39mshape\u001b[38;5;132;01m}\u001b[39;00m\u001b[38;5;124m and \u001b[39m\u001b[38;5;132;01m{\u001b[39;00my\u001b[38;5;241m.\u001b[39mshape\u001b[38;5;132;01m}\u001b[39;00m\u001b[38;5;124m\"\u001b[39m)\n",
      "\u001b[0;31mValueError\u001b[0m: x and y must have same first dimension, but have shapes (3,) and (9997,)"
     ]
    },
    {
     "data": {
      "image/png": "[encoded data removed]",
      "text/plain": [
       "<Figure size 720x432 with 1 Axes>"
      ]
     },
     "metadata": {
      "needs_background": "light"
     },
     "output_type": "display_data"
    }
   ],
   "source": [
    "import numpy as np\n",
    "import matplotlib.pyplot as plt\n",
    "\n",
    "lamb = 1.0\n",
    "hb = 1.0     #hbar\n",
    "j0 = 0.3\n",
    "\n",
    "N = 100\n",
    "n = np.arange(N-2,N+1)\n",
    "\n",
    "case1 = (-hb**2 * j0 * lamb * np.sqrt(-n**2 -n + N**2 + N) *  np.sqrt(-n**2 - 3*n + N**2 + N -2) + 1)**4\n",
    "case2 = (hb**2 * j0 * lamb * np.sqrt(-n**2 +n + N**2 + N) * np.sqrt(-n**2 + 3*n + N**2 + N -2) +1)**4\n",
    "\n",
    "ipr = 1/(case1 + case2)\n",
    "\n",
    "\n",
    "\n",
    "#fterm = 0\n",
    "#secondterm =  j0 **4 * lamb **4 *16 *n**2 * (2*n-1)**2/(16*n**4)\n",
    "#thrdterm = 1\n",
    "\n",
    "fterm = 0\n",
    "secondterm =  4 * n**2/ (j0 **4 * lamb **4 + 4 * n**2)\n",
    "thrdterm = 1\n",
    "\n",
    "plt.figure(figsize=(10,6))\n",
    "\n",
    "plt.plot(n, ipr,label='IPR n')\n",
    "plt.plot(n, 1/(fterm + sterm + thrdterm), label = 'IPR N')\n",
    "\n",
    "plt.xlabel(\"N\")\n",
    "plt.ylabel(\"IPR\")\n",
    "plt.yscale(\"log\")\n",
    "plt.legend()\n",
    "plt.grid()\n",
    "plt.show()"
   ]
  },
  {
   "cell_type": "markdown",
   "metadata": {},
   "source": [
    "RWA Hamiltonian for higer order :\n",
    "================\n",
    "\n",
    "\\begin{align*}\n",
    "H^{RWA} &= H_0 + V\\\\\n",
    "H_0 &\\approx \\frac{2}{N} \\left(S^x\\right)^2 -\\frac{2 J_0}{N}\\big(\\left(S^x\\right)^2 +2 \\left(S^z\\right)^2\\big)\\\\\n",
    "\\end{align*}\n",
    "\n",
    "\\begin{align*}\n",
    "V &= -\\frac{4}{N}\\bigg\\{2\\left(S^z\\right)^2 + \\left(S^x\\right)^2\\bigg\\}\\sum_{n=1}^\\infty J_{2n}(\\eta)\\cos(2n\\omega t) -\\frac{4}{N}\\bigg\\{i\\left(S^x\\right) + 2 \\left(S^z\\right)\\left(S^y\\right)\\bigg\\}\\sum_{n=1}^\\infty J_{2n-1}(\\eta)\\sin((2n-1)\\omega t)\n",
    "\\end{align*}\n",
    "where $\\eta = \\frac{4h}{\\omega}$, and the quantization direction is $x$, *not* z. If eigenstates of $S^x$ are $\\vert s \\rangle$, where $s\\in\\left[-N/2, N/2\\right]$, \\\\\n",
    "\n",
    "When $n=1$\n",
    "\\begin{align*}\n",
    "V_1 &= -\\frac{4}{N}\\bigg\\{i S^x + 2 S^z S^y \\bigg\\} J_{1}(\\eta)\\sin(\\omega t)\n",
    "\\end{align*}\n",
    "When $n=2$\n",
    "\\begin{align*}\n",
    "V_2 &= -\\frac{4}{N}\\bigg\\{2\\left(S^z\\right)^2 + \\left(S^x\\right)^2\\bigg\\}J_{4}(\\eta)\\cos(4\\omega t)\n",
    "\\end{align*}\n",
    "\n",
    "\n",
    "\n",
    "\n",
    "\n",
    "\n",
    "\n",
    "\n",
    "The perturbed eigenstates of $H^{RWA}$ are \n",
    "\n",
    "when $n=1$\n",
    "\\begin{align*}\n",
    "|\\phi_s^1\\rangle &= \\vert s \\rangle -\\frac{4J_1(\\eta) \\sin(\\omega t)}{N}\\sum_{s^\\prime\\neq s}\\frac{V_{ss^\\prime}^1}{s-s^\\prime}\\vert s^\\prime\\rangle\\\\\n",
    "V_{ss^\\prime}^1 &= \\bigg\\{i\\left\\langle s\\left\\vert S^x \\right\\vert s^\\prime\\right\\rangle + 2\\left\\langle s\\left\\vert S^zS^y\\right\\vert s^\\prime\\right\\rangle\\bigg\\}\n",
    "\\end{align*}\n",
    "\n",
    "when $n=2$\n",
    "\\begin{align*}\n",
    "|\\phi_s^2\\rangle &= \\vert s \\rangle -\\frac{4J_4(\\eta) \\cos(4\\omega t)}{N}\\sum_{s^\\prime\\neq s}\\frac{V_{ss^\\prime}^2}{s-s^\\prime}\\vert s^\\prime\\rangle\\\\\n",
    "V_{ss^\\prime}^2 &= \\bigg\\{2\\langle s\\left\\vert\\left(S^z\\right)^2\\right\\vert s^\\prime\\rangle + \\langle s\\left\\vert\\left(S^x\\right)^2\\right\\vert s^\\prime\\rangle\\bigg\\}\n",
    "\\end{align*}\n",
    "\n",
    "\n",
    "\n",
    "\n",
    "We change the index from $s$ to $n = s + N/2$, which is an integer in the range $[0,N]$. Then\n",
    "\\begin{align*}\n",
    "|\\phi_n^1\\rangle &= \\vert n \\rangle -\\frac{4J_1(\\eta) \\sin(\\omega t)}{N}\\sum_{m\\neq n}\\frac{V_{nm}^1}{n-m}\\vert m\\rangle\\\\\n",
    "V_{nm^\\prime}^1 &= \\bigg\\{i\\left\\langle n\\left\\vert S^x \\right\\vert m\\right\\rangle + 2\\left\\langle n\\left\\vert S^zS^y\\right\\vert m\\right\\rangle\\bigg\\}\n",
    "\\end{align*}\n",
    "and\n",
    "\\begin{align*}\n",
    "|\\phi_n^2\\rangle &= \\vert n \\rangle -\\frac{4J_4(\\eta) \\cos(4\\omega t)}{N}\\sum_{m\\neq n}\\frac{V_{nm^\\prime}^2}{n-m^\\prime}\\vert s^\\prime\\rangle\\\\\n",
    "V_{nm^\\prime}^2 &= \\bigg\\{2\\langle n\\left\\vert\\left(S^z\\right)^2\\right\\vert m\\rangle + \\langle n\\left\\vert\\left(S^x\\right)^2\\right\\vert m\\rangle\\bigg\\}\n",
    "\\end{align*}"
   ]
  },
  {
   "cell_type": "code",
   "execution_count": 2,
   "metadata": {},
   "outputs": [
    {
     "data": {
      "text/latex": [
       "$\\displaystyle \\left(\\frac{\\hbar m \\delta_{m n}}{- m + n} - \\frac{\\hbar^{2} i m \\delta_{m n}}{- m + n} - \\frac{\\hbar^{2} i \\sqrt{N^{2} + N - m^{2} - m} \\sqrt{N^{2} + N - m^{2} - 3 m - 2} \\delta_{n, m + 2}}{- 2 m + 2 n} + \\frac{\\hbar^{2} i \\sqrt{N^{2} + N - m^{2} + m} \\sqrt{N^{2} + N - m^{2} + 3 m - 2} \\delta_{n, m - 2}}{- 2 m + 2 n}\\right) {\\left|N,m\\right\\rangle }$"
      ],
      "text/plain": [
       "(hbar*m*KroneckerDelta(m, n)/(-m + n) - hbar**2*I*m*KroneckerDelta(m, n)/(-m + n) - hbar**2*I*sqrt(N**2 + N - m**2 - m)*sqrt(N**2 + N - m**2 - 3*m - 2)*KroneckerDelta(n, m + 2)/(-2*m + 2*n) + hbar**2*I*sqrt(N**2 + N - m**2 + m)*sqrt(N**2 + N - m**2 + 3*m - 2)*KroneckerDelta(n, m - 2)/(-2*m + 2*n))*|N,m>"
      ]
     },
     "execution_count": 2,
     "metadata": {},
     "output_type": "execute_result"
    }
   ],
   "source": [
    "import sympy\n",
    "from sympy.physics.quantum.spin import JzKet as n_ket\n",
    "from sympy.physics.quantum.spin import JzBra as n_bra\n",
    "\n",
    "\n",
    "from sympy.physics.quantum.spin import Jz as Sx\n",
    "from sympy.physics.quantum.spin import Jx as Sy\n",
    "from sympy.physics.quantum.spin import Jy as Sz\n",
    "\n",
    "\n",
    "from sympy.physics.quantum.qapply import qapply\n",
    "from sympy.physics.quantum.innerproduct import InnerProduct as ip\n",
    "\n",
    "from sympy.physics.quantum.spin import J2 as S2\n",
    "\n",
    "N = sympy.Symbol('N', integer=True)\n",
    "n = sympy.Symbol('n', integer=True)\n",
    "m = sympy.Symbol('m', integer=True)\n",
    "\n",
    "\n",
    "\n",
    "qapply((1/(n-m)) * (n_bra(N,n)*Sx*n_ket(N,m) + 2* n_bra(N,n)*Sz*Sy*n_ket(N,m))) * n_ket(N,m)"
   ]
  },
  {
   "cell_type": "code",
   "execution_count": 1,
   "metadata": {},
   "outputs": [
    {
     "data": {
      "text/latex": [
       "$\\displaystyle \\begin{cases} \\frac{\\lambda \\left(\\hbar^{2} i \\sqrt{- n^{2} - n + N^{2} + N} \\sqrt{- n^{2} - 3 n + N^{2} + N - 2} {\\left|N,n + 2\\right\\rangle } + \\hbar^{2} i \\sqrt{- n^{2} + n + N^{2} + N} \\sqrt{- n^{2} + 3 n + N^{2} + N - 2} {\\left|N,n - 2\\right\\rangle }\\right)}{8} + {\\left|N,n\\right\\rangle } & \\text{for}\\: n \\geq 2 \\wedge n \\leq N \\wedge n - N \\leq -2 \\\\\\frac{\\hbar^{2} i \\lambda \\sqrt{- n^{2} - n + N^{2} + N} \\sqrt{- n^{2} - 3 n + N^{2} + N - 2} {\\left|N,n + 2\\right\\rangle }}{8} + {\\left|N,n\\right\\rangle } & \\text{for}\\: n \\leq N \\wedge n - N \\leq -2 \\\\\\frac{\\hbar^{2} i \\lambda \\sqrt{- n^{2} + n + N^{2} + N} \\sqrt{- n^{2} + 3 n + N^{2} + N - 2} {\\left|N,n - 2\\right\\rangle }}{8} + {\\left|N,n\\right\\rangle } & \\text{for}\\: n \\geq 2 \\wedge n \\leq N \\wedge n - N \\leq 2 \\\\{\\left|N,n\\right\\rangle } & \\text{for}\\: n \\leq N \\\\\\frac{\\hbar^{2} i \\lambda \\left(\\sqrt{- n^{2} - n + N^{2} + N} \\sqrt{- n^{2} - 3 n + N^{2} + N - 2} {\\left|N,n + 2\\right\\rangle } + \\sqrt{- n^{2} + n + N^{2} + N} \\sqrt{- n^{2} + 3 n + N^{2} + N - 2} {\\left|N,n - 2\\right\\rangle }\\right)}{8} + {\\left|N,n\\right\\rangle } & \\text{for}\\: n \\geq 2 \\wedge n - N \\leq -2 \\\\\\frac{\\hbar^{2} i \\lambda \\sqrt{- n^{2} - n + N^{2} + N} \\sqrt{- n^{2} - 3 n + N^{2} + N - 2} {\\left|N,n + 2\\right\\rangle }}{8} + {\\left|N,n\\right\\rangle } & \\text{for}\\: n - N \\leq -2 \\\\\\frac{\\hbar^{2} i \\lambda \\sqrt{- n^{2} + n + N^{2} + N} \\sqrt{- n^{2} + 3 n + N^{2} + N - 2} {\\left|N,n - 2\\right\\rangle }}{8} + {\\left|N,n\\right\\rangle } & \\text{for}\\: n \\geq 2 \\wedge n - N \\leq 2 \\\\{\\left|N,n\\right\\rangle } & \\text{otherwise} \\end{cases}$"
      ],
      "text/plain": [
       "Piecewise((\\lambda*(hbar**2*I*sqrt(-_n**2 - _n + N**2 + N)*sqrt(-_n**2 - 3*_n + N**2 + N - 2)*|N,_n + 2> + hbar**2*I*sqrt(-_n**2 + _n + N**2 + N)*sqrt(-_n**2 + 3*_n + N**2 + N - 2)*|N,_n - 2>)/8 + |N,_n>, (_n >= 2) & (_n <= N) & (_n - N <= -2)), (hbar**2*I*\\lambda*sqrt(-_n**2 - _n + N**2 + N)*sqrt(-_n**2 - 3*_n + N**2 + N - 2)*|N,_n + 2>/8 + |N,_n>, (_n <= N) & (_n - N <= -2)), (hbar**2*I*\\lambda*sqrt(-_n**2 + _n + N**2 + N)*sqrt(-_n**2 + 3*_n + N**2 + N - 2)*|N,_n - 2>/8 + |N,_n>, (_n >= 2) & (_n <= N) & (_n - N <= 2)), (|N,_n>, _n <= N), (hbar**2*I*\\lambda*(sqrt(-_n**2 - _n + N**2 + N)*sqrt(-_n**2 - 3*_n + N**2 + N - 2)*|N,_n + 2> + sqrt(-_n**2 + _n + N**2 + N)*sqrt(-_n**2 + 3*_n + N**2 + N - 2)*|N,_n - 2>)/8 + |N,_n>, (_n >= 2) & (_n - N <= -2)), (hbar**2*I*\\lambda*sqrt(-_n**2 - _n + N**2 + N)*sqrt(-_n**2 - 3*_n + N**2 + N - 2)*|N,_n + 2>/8 + |N,_n>, _n - N <= -2), (hbar**2*I*\\lambda*sqrt(-_n**2 + _n + N**2 + N)*sqrt(-_n**2 + 3*_n + N**2 + N - 2)*|N,_n - 2>/8 + |N,_n>, (_n >= 2) & (_n - N <= 2)), (|N,_n>, True))"
      ]
     },
     "execution_count": 1,
     "metadata": {},
     "output_type": "execute_result"
    }
   ],
   "source": [
    "import sympy\n",
    "\n",
    "from sympy import KroneckerDelta as kdel\n",
    "\n",
    "from sympy import zoo\n",
    "\n",
    "from sympy.physics.quantum.spin import JzKet as n_ket\n",
    "from sympy.physics.quantum.spin import JzBra as n_bra\n",
    "from sympy.physics.quantum.dagger import Dagger\n",
    "\n",
    "from sympy.physics.quantum.spin import Jz as Sx\n",
    "from sympy.physics.quantum.spin import Jx as Sy\n",
    "from sympy.physics.quantum.spin import Jy as Sz\n",
    "\n",
    "\n",
    "from sympy.physics.quantum.qapply import qapply\n",
    "from sympy.physics.quantum.innerproduct import InnerProduct as ip\n",
    "\n",
    "from sympy.physics.quantum.spin import J2 as S2\n",
    "\n",
    "N = sympy.Symbol('N', integer=True, positive=True)\n",
    "n = sympy.Dummy('n', integer=True, nonnegative=True)\n",
    "m = sympy.Dummy('m', integer=True, nonnegative=True)\n",
    "\n",
    "p = sympy.Dummy('p', integer=True, nonnegative=True)\n",
    "\n",
    "lamb = sympy.Symbol('\\lambda', real=True)\n",
    "\n",
    "\n",
    "def psiprod(m,n):\n",
    "    return qapply(lamb * qapply((1/(n-m)) * (n_bra(N,n)\\\n",
    "                                                  * Sx * n_ket(N,m) + n_bra(N,n) *\\\n",
    "                                                            Sz * Sy * n_ket(N,m))) * n_ket(N,m))\n",
    "\n",
    "phi_n = n_ket(N,n) -  sympy.Sum(psiprod(m,n),(m,0,N)).doit() \n",
    "\n",
    "\n",
    "sympy.simplify(phi_n).subs(zoo,0)\n",
    "#inner_prod = phi_n.subs(n_ket(N,n),kdel(p,n))\n",
    "#inner_prod = inner_prod.subs(n_ket(N,n-2),kdel(p,n-2))\n",
    "#inner_prod = inner_prod.subs(n_ket(N,n+2),kdel(p,n+2))\n",
    "#inner_prod = inner_prod.subs(n<=N, True)\n",
    "\n",
    "#inner_prod\n",
    "#p_psi_n = qapply(n_bra(N,p) * psi_n)\n",
    "#psi_n_p = qapply(Dagger(psi_n) * n_ket(N,p))\n",
    "\n",
    "#ipr= 1/(qapply(p_psi_n * psi_n_p))**2\n",
    "#ipr"
   ]
  },
  {
   "cell_type": "code",
   "execution_count": null,
   "metadata": {},
   "outputs": [],
   "source": []
  }
 ],
 "metadata": {
  "kernelspec": {
   "display_name": "Python 3 (ipykernel)",
   "language": "python",
   "name": "python3"
  },
  "language_info": {
   "codemirror_mode": {
    "name": "ipython",
    "version": 3
   },
   "file_extension": ".py",
   "mimetype": "text/x-python",
   "name": "python",
   "nbconvert_exporter": "python",
   "pygments_lexer": "ipython3",
   "version": "3.10.4"
  }
 },
 "nbformat": 4,
 "nbformat_minor": 4
}
